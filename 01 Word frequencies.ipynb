{
 "cells": [
  {
   "cell_type": "code",
   "execution_count": 1,
   "outputs": [
    {
     "name": "stderr",
     "output_type": "stream",
     "text": [
      "C:\\Users\\Dmitry.Volkov\\Anaconda3\\envs\\support-cases\\lib\\site-packages\\scipy\\__init__.py:146: UserWarning: A NumPy version >=1.16.5 and <1.23.0 is required for this version of SciPy (detected version 1.23.1\n",
      "  warnings.warn(f\"A NumPy version >={np_minversion} and <{np_maxversion}\"\n",
      "100%|██████████| 12230/12230 [00:02<00:00, 5347.63it/s]\n",
      "100%|██████████| 12230/12230 [00:15<00:00, 791.46it/s]\n"
     ]
    }
   ],
   "source": [
    "%load_ext autoreload\n",
    "%autoreload 2\n",
    "\n",
    "import pandas as pd\n",
    "from src.utils.text_preprocessing import preprocess_text, tokenize\n",
    "from src.utils.reporting import get_cross_validation_report\n",
    "import warnings\n",
    "from tqdm import tqdm\n",
    "tqdm.pandas()\n",
    "\n",
    "df = pd.read_csv('data/reviews_excerpt.csv')\n",
    "with warnings.catch_warnings():\n",
    "    warnings.simplefilter(\"ignore\")\n",
    "\n",
    "    df['text_pp'] = df['text'].progress_apply(preprocess_text)\n",
    "    df['text_pp'] = df['text_pp'].progress_apply(lambda row: tokenize(row, stem=True))"
   ],
   "metadata": {
    "collapsed": false,
    "pycharm": {
     "name": "#%%\n"
    }
   }
  },
  {
   "cell_type": "code",
   "execution_count": 3,
   "outputs": [
    {
     "name": "stderr",
     "output_type": "stream",
     "text": [
      "100%|██████████| 12230/12230 [00:01<00:00, 8172.07it/s]\n",
      "100%|██████████| 5/5 [00:09<00:00,  1.82s/it]"
     ]
    },
    {
     "name": "stdout",
     "output_type": "stream",
     "text": [
      "0.4074\n"
     ]
    },
    {
     "name": "stderr",
     "output_type": "stream",
     "text": [
      "\n"
     ]
    },
    {
     "data": {
      "text/plain": "     precision    recall        f1  support\n1.0   0.465763  0.533933  0.497524   2446.0\n2.0   0.384476  0.346280  0.364379   2446.0\n3.0   0.348294  0.317253  0.332050   2446.0\n4.0   0.357993  0.344235  0.350980   2446.0\n5.0   0.473704  0.511856  0.492042   2446.0",
      "text/html": "<div>\n<style scoped>\n    .dataframe tbody tr th:only-of-type {\n        vertical-align: middle;\n    }\n\n    .dataframe tbody tr th {\n        vertical-align: top;\n    }\n\n    .dataframe thead th {\n        text-align: right;\n    }\n</style>\n<table border=\"1\" class=\"dataframe\">\n  <thead>\n    <tr style=\"text-align: right;\">\n      <th></th>\n      <th>precision</th>\n      <th>recall</th>\n      <th>f1</th>\n      <th>support</th>\n    </tr>\n  </thead>\n  <tbody>\n    <tr>\n      <th>1.0</th>\n      <td>0.465763</td>\n      <td>0.533933</td>\n      <td>0.497524</td>\n      <td>2446.0</td>\n    </tr>\n    <tr>\n      <th>2.0</th>\n      <td>0.384476</td>\n      <td>0.346280</td>\n      <td>0.364379</td>\n      <td>2446.0</td>\n    </tr>\n    <tr>\n      <th>3.0</th>\n      <td>0.348294</td>\n      <td>0.317253</td>\n      <td>0.332050</td>\n      <td>2446.0</td>\n    </tr>\n    <tr>\n      <th>4.0</th>\n      <td>0.357993</td>\n      <td>0.344235</td>\n      <td>0.350980</td>\n      <td>2446.0</td>\n    </tr>\n    <tr>\n      <th>5.0</th>\n      <td>0.473704</td>\n      <td>0.511856</td>\n      <td>0.492042</td>\n      <td>2446.0</td>\n    </tr>\n  </tbody>\n</table>\n</div>"
     },
     "metadata": {},
     "output_type": "display_data"
    },
    {
     "data": {
      "text/plain": "          Pred 1.0  Pred 2.0  Pred 3.0  Pred 4.0  Pred 5.0\nTrue 1.0      1306       465       288       175       212\nTrue 2.0       620       847       437       282       260\nTrue 3.0       423       415       776       530       302\nTrue 4.0       229       287       471       842       617\nTrue 5.0       226       189       256       523      1252",
      "text/html": "<div>\n<style scoped>\n    .dataframe tbody tr th:only-of-type {\n        vertical-align: middle;\n    }\n\n    .dataframe tbody tr th {\n        vertical-align: top;\n    }\n\n    .dataframe thead th {\n        text-align: right;\n    }\n</style>\n<table border=\"1\" class=\"dataframe\">\n  <thead>\n    <tr style=\"text-align: right;\">\n      <th></th>\n      <th>Pred 1.0</th>\n      <th>Pred 2.0</th>\n      <th>Pred 3.0</th>\n      <th>Pred 4.0</th>\n      <th>Pred 5.0</th>\n    </tr>\n  </thead>\n  <tbody>\n    <tr>\n      <th>True 1.0</th>\n      <td>1306</td>\n      <td>465</td>\n      <td>288</td>\n      <td>175</td>\n      <td>212</td>\n    </tr>\n    <tr>\n      <th>True 2.0</th>\n      <td>620</td>\n      <td>847</td>\n      <td>437</td>\n      <td>282</td>\n      <td>260</td>\n    </tr>\n    <tr>\n      <th>True 3.0</th>\n      <td>423</td>\n      <td>415</td>\n      <td>776</td>\n      <td>530</td>\n      <td>302</td>\n    </tr>\n    <tr>\n      <th>True 4.0</th>\n      <td>229</td>\n      <td>287</td>\n      <td>471</td>\n      <td>842</td>\n      <td>617</td>\n    </tr>\n    <tr>\n      <th>True 5.0</th>\n      <td>226</td>\n      <td>189</td>\n      <td>256</td>\n      <td>523</td>\n      <td>1252</td>\n    </tr>\n  </tbody>\n</table>\n</div>"
     },
     "metadata": {},
     "output_type": "display_data"
    }
   ],
   "source": [
    "import numpy as np\n",
    "from IPython.display import display\n",
    "from src.frequency_based_classification import get_frequency_map, get_vector\n",
    "\n",
    "frequency_map = get_frequency_map(df, 'text_pp', 'score')\n",
    "scores = df['score'].unique()\n",
    "df['vector'] = df['text_pp'].progress_apply(lambda tokens: get_vector(tokens, scores, frequency_map))\n",
    "\n",
    "X, y = np.vstack(df['vector']), df['score'].to_numpy()\n",
    "weighted_f1, report_df, confusion_df = get_cross_validation_report(X, y, seed=0)\n",
    "print(weighted_f1)\n",
    "display(report_df)\n",
    "display(confusion_df)"
   ],
   "metadata": {
    "collapsed": false,
    "pycharm": {
     "name": "#%%\n"
    }
   }
  },
  {
   "cell_type": "code",
   "execution_count": null,
   "outputs": [],
   "source": [],
   "metadata": {
    "collapsed": false,
    "pycharm": {
     "name": "#%%\n"
    }
   }
  }
 ],
 "metadata": {
  "kernelspec": {
   "display_name": "Python 3",
   "language": "python",
   "name": "python3"
  },
  "language_info": {
   "codemirror_mode": {
    "name": "ipython",
    "version": 2
   },
   "file_extension": ".py",
   "mimetype": "text/x-python",
   "name": "python",
   "nbconvert_exporter": "python",
   "pygments_lexer": "ipython2",
   "version": "2.7.6"
  }
 },
 "nbformat": 4,
 "nbformat_minor": 0
}
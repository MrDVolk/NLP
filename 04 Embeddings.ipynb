{
 "cells": [
  {
   "cell_type": "code",
   "execution_count": 1,
   "outputs": [
    {
     "name": "stderr",
     "output_type": "stream",
     "text": [
      "C:\\Users\\Dmitry.Volkov\\Anaconda3\\envs\\support-cases\\lib\\site-packages\\scipy\\__init__.py:146: UserWarning: A NumPy version >=1.16.5 and <1.23.0 is required for this version of SciPy (detected version 1.23.1\n",
      "  warnings.warn(f\"A NumPy version >={np_minversion} and <{np_maxversion}\"\n",
      "100%|██████████| 12230/12230 [00:02<00:00, 5325.82it/s]\n"
     ]
    }
   ],
   "source": [
    "import numpy as np\n",
    "%load_ext autoreload\n",
    "%autoreload 2\n",
    "\n",
    "import pandas as pd\n",
    "import numpy as np\n",
    "from src.utils.text_preprocessing import preprocess_text, tokenize\n",
    "from src.utils.reporting import get_cross_validation_report\n",
    "from src.utils.vector_space_analysis import *\n",
    "import warnings\n",
    "from tqdm import tqdm\n",
    "tqdm.pandas()\n",
    "\n",
    "df = pd.read_csv('data/reviews_excerpt.csv')\n",
    "with warnings.catch_warnings():\n",
    "    warnings.simplefilter(\"ignore\")\n",
    "\n",
    "    df['text_pp'] = df['text'].progress_apply(preprocess_text)"
   ],
   "metadata": {
    "collapsed": false,
    "pycharm": {
     "name": "#%%\n"
    }
   }
  },
  {
   "cell_type": "code",
   "execution_count": 2,
   "outputs": [
    {
     "name": "stderr",
     "output_type": "stream",
     "text": [
      "100%|██████████| 1917494/1917494 [02:35<00:00, 12368.05it/s]\n"
     ]
    }
   ],
   "source": [
    "from src.utils.embeddings import *\n",
    "\n",
    "glove_embeddings = load_embeddings('embedding_vectors/glove.42B.300d.txt')\n",
    "\n",
    "def glove_vectorization(input_array):\n",
    "    return np.array([average_vectorizations(row, glove_embeddings) for row in input_array])"
   ],
   "metadata": {
    "collapsed": false,
    "pycharm": {
     "name": "#%%\n"
    }
   }
  },
  {
   "cell_type": "code",
   "execution_count": null,
   "outputs": [],
   "source": [],
   "metadata": {
    "collapsed": false,
    "pycharm": {
     "name": "#%%\n"
    }
   }
  },
  {
   "cell_type": "markdown",
   "source": [
    "# Simple embedding usage"
   ],
   "metadata": {
    "collapsed": false,
    "pycharm": {
     "name": "#%% md\n"
    }
   }
  },
  {
   "cell_type": "code",
   "execution_count": 38,
   "outputs": [
    {
     "name": "stderr",
     "output_type": "stream",
     "text": [
      "100%|██████████| 5/5 [02:01<00:00, 24.31s/it]"
     ]
    },
    {
     "name": "stdout",
     "output_type": "stream",
     "text": [
      "0.4291\n"
     ]
    },
    {
     "name": "stderr",
     "output_type": "stream",
     "text": [
      "\n"
     ]
    },
    {
     "data": {
      "text/plain": "     precision    recall        f1  support\n1.0   0.512038  0.617334  0.559778   2446.0\n2.0   0.350979  0.322567  0.336174   2446.0\n3.0   0.331202  0.317661  0.324290   2446.0\n4.0   0.392411  0.334015  0.360866   2446.0\n5.0   0.547409  0.582993  0.564641   2446.0",
      "text/html": "<div>\n<style scoped>\n    .dataframe tbody tr th:only-of-type {\n        vertical-align: middle;\n    }\n\n    .dataframe tbody tr th {\n        vertical-align: top;\n    }\n\n    .dataframe thead th {\n        text-align: right;\n    }\n</style>\n<table border=\"1\" class=\"dataframe\">\n  <thead>\n    <tr style=\"text-align: right;\">\n      <th></th>\n      <th>precision</th>\n      <th>recall</th>\n      <th>f1</th>\n      <th>support</th>\n    </tr>\n  </thead>\n  <tbody>\n    <tr>\n      <th>1.0</th>\n      <td>0.512038</td>\n      <td>0.617334</td>\n      <td>0.559778</td>\n      <td>2446.0</td>\n    </tr>\n    <tr>\n      <th>2.0</th>\n      <td>0.350979</td>\n      <td>0.322567</td>\n      <td>0.336174</td>\n      <td>2446.0</td>\n    </tr>\n    <tr>\n      <th>3.0</th>\n      <td>0.331202</td>\n      <td>0.317661</td>\n      <td>0.324290</td>\n      <td>2446.0</td>\n    </tr>\n    <tr>\n      <th>4.0</th>\n      <td>0.392411</td>\n      <td>0.334015</td>\n      <td>0.360866</td>\n      <td>2446.0</td>\n    </tr>\n    <tr>\n      <th>5.0</th>\n      <td>0.547409</td>\n      <td>0.582993</td>\n      <td>0.564641</td>\n      <td>2446.0</td>\n    </tr>\n  </tbody>\n</table>\n</div>"
     },
     "metadata": {},
     "output_type": "display_data"
    },
    {
     "data": {
      "text/plain": "          Pred 1.0  Pred 2.0  Pred 3.0  Pred 4.0  Pred 5.0\nTrue 1.0      1510       496       214        76       150\nTrue 2.0       693       789       561       243       160\nTrue 3.0       370       549       777       487       263\nTrue 4.0       196       259       568       817       606\nTrue 5.0       180       155       226       459      1426",
      "text/html": "<div>\n<style scoped>\n    .dataframe tbody tr th:only-of-type {\n        vertical-align: middle;\n    }\n\n    .dataframe tbody tr th {\n        vertical-align: top;\n    }\n\n    .dataframe thead th {\n        text-align: right;\n    }\n</style>\n<table border=\"1\" class=\"dataframe\">\n  <thead>\n    <tr style=\"text-align: right;\">\n      <th></th>\n      <th>Pred 1.0</th>\n      <th>Pred 2.0</th>\n      <th>Pred 3.0</th>\n      <th>Pred 4.0</th>\n      <th>Pred 5.0</th>\n    </tr>\n  </thead>\n  <tbody>\n    <tr>\n      <th>True 1.0</th>\n      <td>1510</td>\n      <td>496</td>\n      <td>214</td>\n      <td>76</td>\n      <td>150</td>\n    </tr>\n    <tr>\n      <th>True 2.0</th>\n      <td>693</td>\n      <td>789</td>\n      <td>561</td>\n      <td>243</td>\n      <td>160</td>\n    </tr>\n    <tr>\n      <th>True 3.0</th>\n      <td>370</td>\n      <td>549</td>\n      <td>777</td>\n      <td>487</td>\n      <td>263</td>\n    </tr>\n    <tr>\n      <th>True 4.0</th>\n      <td>196</td>\n      <td>259</td>\n      <td>568</td>\n      <td>817</td>\n      <td>606</td>\n    </tr>\n    <tr>\n      <th>True 5.0</th>\n      <td>180</td>\n      <td>155</td>\n      <td>226</td>\n      <td>459</td>\n      <td>1426</td>\n    </tr>\n  </tbody>\n</table>\n</div>"
     },
     "metadata": {},
     "output_type": "display_data"
    }
   ],
   "source": [
    "from imblearn.pipeline import Pipeline\n",
    "from imblearn.over_sampling import SMOTE\n",
    "from sklearn.svm import SVC\n",
    "from sklearn.preprocessing import FunctionTransformer\n",
    "from IPython.display import display\n",
    "\n",
    "X, y = df['text_pp'], df['score'].to_numpy()\n",
    "\n",
    "weighted_f1, report_df, confusion_df = get_cross_validation_report(\n",
    "    X, y,\n",
    "    model_factory=lambda: Pipeline([\n",
    "        ('embd', FunctionTransformer(func=glove_vectorization)),\n",
    "        ('smote', SMOTE(random_state=0)),\n",
    "        ('svc', SVC()),\n",
    "    ]),\n",
    "    seed=0\n",
    ")\n",
    "print(weighted_f1)\n",
    "display(report_df)\n",
    "display(confusion_df)"
   ],
   "metadata": {
    "collapsed": false,
    "pycharm": {
     "name": "#%%\n"
    }
   }
  },
  {
   "cell_type": "code",
   "execution_count": 3,
   "outputs": [
    {
     "name": "stderr",
     "output_type": "stream",
     "text": [
      "100%|██████████| 5/5 [00:08<00:00,  1.70s/it]"
     ]
    },
    {
     "name": "stdout",
     "output_type": "stream",
     "text": [
      "0.339\n"
     ]
    },
    {
     "name": "stderr",
     "output_type": "stream",
     "text": [
      "\n"
     ]
    },
    {
     "data": {
      "text/plain": "     precision    recall        f1  support\n1.0   0.369984  0.550286  0.442472   2446.0\n2.0   0.299145  0.243254  0.268320   2446.0\n3.0   0.293328  0.285773  0.289501   2446.0\n4.0   0.330654  0.252249  0.286178   2446.0\n5.0   0.416737  0.401063  0.408750   2446.0",
      "text/html": "<div>\n<style scoped>\n    .dataframe tbody tr th:only-of-type {\n        vertical-align: middle;\n    }\n\n    .dataframe tbody tr th {\n        vertical-align: top;\n    }\n\n    .dataframe thead th {\n        text-align: right;\n    }\n</style>\n<table border=\"1\" class=\"dataframe\">\n  <thead>\n    <tr style=\"text-align: right;\">\n      <th></th>\n      <th>precision</th>\n      <th>recall</th>\n      <th>f1</th>\n      <th>support</th>\n    </tr>\n  </thead>\n  <tbody>\n    <tr>\n      <th>1.0</th>\n      <td>0.369984</td>\n      <td>0.550286</td>\n      <td>0.442472</td>\n      <td>2446.0</td>\n    </tr>\n    <tr>\n      <th>2.0</th>\n      <td>0.299145</td>\n      <td>0.243254</td>\n      <td>0.268320</td>\n      <td>2446.0</td>\n    </tr>\n    <tr>\n      <th>3.0</th>\n      <td>0.293328</td>\n      <td>0.285773</td>\n      <td>0.289501</td>\n      <td>2446.0</td>\n    </tr>\n    <tr>\n      <th>4.0</th>\n      <td>0.330654</td>\n      <td>0.252249</td>\n      <td>0.286178</td>\n      <td>2446.0</td>\n    </tr>\n    <tr>\n      <th>5.0</th>\n      <td>0.416737</td>\n      <td>0.401063</td>\n      <td>0.408750</td>\n      <td>2446.0</td>\n    </tr>\n  </tbody>\n</table>\n</div>"
     },
     "metadata": {},
     "output_type": "display_data"
    },
    {
     "data": {
      "text/plain": "          Pred 1.0  Pred 2.0  Pred 3.0  Pred 4.0  Pred 5.0\nTrue 1.0      1346       584       188        90       238\nTrue 2.0       785       595       530       285       251\nTrue 3.0       633       414       699       390       310\nTrue 4.0       411       229       615       617       574\nTrue 5.0       463       167       351       484       981",
      "text/html": "<div>\n<style scoped>\n    .dataframe tbody tr th:only-of-type {\n        vertical-align: middle;\n    }\n\n    .dataframe tbody tr th {\n        vertical-align: top;\n    }\n\n    .dataframe thead th {\n        text-align: right;\n    }\n</style>\n<table border=\"1\" class=\"dataframe\">\n  <thead>\n    <tr style=\"text-align: right;\">\n      <th></th>\n      <th>Pred 1.0</th>\n      <th>Pred 2.0</th>\n      <th>Pred 3.0</th>\n      <th>Pred 4.0</th>\n      <th>Pred 5.0</th>\n    </tr>\n  </thead>\n  <tbody>\n    <tr>\n      <th>True 1.0</th>\n      <td>1346</td>\n      <td>584</td>\n      <td>188</td>\n      <td>90</td>\n      <td>238</td>\n    </tr>\n    <tr>\n      <th>True 2.0</th>\n      <td>785</td>\n      <td>595</td>\n      <td>530</td>\n      <td>285</td>\n      <td>251</td>\n    </tr>\n    <tr>\n      <th>True 3.0</th>\n      <td>633</td>\n      <td>414</td>\n      <td>699</td>\n      <td>390</td>\n      <td>310</td>\n    </tr>\n    <tr>\n      <th>True 4.0</th>\n      <td>411</td>\n      <td>229</td>\n      <td>615</td>\n      <td>617</td>\n      <td>574</td>\n    </tr>\n    <tr>\n      <th>True 5.0</th>\n      <td>463</td>\n      <td>167</td>\n      <td>351</td>\n      <td>484</td>\n      <td>981</td>\n    </tr>\n  </tbody>\n</table>\n</div>"
     },
     "metadata": {},
     "output_type": "display_data"
    }
   ],
   "source": [
    "from imblearn.pipeline import Pipeline\n",
    "from imblearn.over_sampling import SMOTE\n",
    "from sklearn.naive_bayes import GaussianNB\n",
    "from sklearn.preprocessing import FunctionTransformer\n",
    "from IPython.display import display\n",
    "\n",
    "X, y = df['text_pp'], df['score'].to_numpy()\n",
    "\n",
    "weighted_f1, report_df, confusion_df = get_cross_validation_report(\n",
    "    X, y,\n",
    "    model_factory=lambda: Pipeline([\n",
    "        ('embd', FunctionTransformer(func=glove_vectorization)),\n",
    "        ('smote', SMOTE(random_state=0)),\n",
    "        ('gnb', GaussianNB()),\n",
    "    ]),\n",
    "    seed=0\n",
    ")\n",
    "print(weighted_f1)\n",
    "display(report_df)\n",
    "display(confusion_df)"
   ],
   "metadata": {
    "collapsed": false,
    "pycharm": {
     "name": "#%%\n"
    }
   }
  },
  {
   "cell_type": "code",
   "execution_count": null,
   "outputs": [],
   "source": [],
   "metadata": {
    "collapsed": false,
    "pycharm": {
     "name": "#%%\n"
    }
   }
  },
  {
   "cell_type": "markdown",
   "source": [
    "# Embedding-based cascade classification with clusterization"
   ],
   "metadata": {
    "collapsed": false,
    "pycharm": {
     "name": "#%% md\n"
    }
   }
  },
  {
   "cell_type": "code",
   "execution_count": 3,
   "outputs": [
    {
     "name": "stderr",
     "output_type": "stream",
     "text": [
      "100%|██████████| 5/5 [03:00<00:00, 36.10s/it]"
     ]
    },
    {
     "name": "stdout",
     "output_type": "stream",
     "text": [
      "0.4305\n"
     ]
    },
    {
     "name": "stderr",
     "output_type": "stream",
     "text": [
      "\n"
     ]
    },
    {
     "data": {
      "text/plain": "     precision    recall        f1  support\n1.0   0.519436  0.617334  0.564170   2446.0\n2.0   0.350292  0.343418  0.346821   2446.0\n3.0   0.332040  0.244890  0.281882   2446.0\n4.0   0.383420  0.393295  0.388295   2446.0\n5.0   0.553216  0.590760  0.571372   2446.0",
      "text/html": "<div>\n<style scoped>\n    .dataframe tbody tr th:only-of-type {\n        vertical-align: middle;\n    }\n\n    .dataframe tbody tr th {\n        vertical-align: top;\n    }\n\n    .dataframe thead th {\n        text-align: right;\n    }\n</style>\n<table border=\"1\" class=\"dataframe\">\n  <thead>\n    <tr style=\"text-align: right;\">\n      <th></th>\n      <th>precision</th>\n      <th>recall</th>\n      <th>f1</th>\n      <th>support</th>\n    </tr>\n  </thead>\n  <tbody>\n    <tr>\n      <th>1.0</th>\n      <td>0.519436</td>\n      <td>0.617334</td>\n      <td>0.564170</td>\n      <td>2446.0</td>\n    </tr>\n    <tr>\n      <th>2.0</th>\n      <td>0.350292</td>\n      <td>0.343418</td>\n      <td>0.346821</td>\n      <td>2446.0</td>\n    </tr>\n    <tr>\n      <th>3.0</th>\n      <td>0.332040</td>\n      <td>0.244890</td>\n      <td>0.281882</td>\n      <td>2446.0</td>\n    </tr>\n    <tr>\n      <th>4.0</th>\n      <td>0.383420</td>\n      <td>0.393295</td>\n      <td>0.388295</td>\n      <td>2446.0</td>\n    </tr>\n    <tr>\n      <th>5.0</th>\n      <td>0.553216</td>\n      <td>0.590760</td>\n      <td>0.571372</td>\n      <td>2446.0</td>\n    </tr>\n  </tbody>\n</table>\n</div>"
     },
     "metadata": {},
     "output_type": "display_data"
    },
    {
     "data": {
      "text/plain": "          Pred 1.0  Pred 2.0  Pred 3.0  Pred 4.0  Pred 5.0\nTrue 1.0      1510       520       171       109       136\nTrue 2.0       689       840       454       301       162\nTrue 3.0       365       626       599       597       259\nTrue 4.0       184       277       413       962       610\nTrue 5.0       159       135       167       540      1445",
      "text/html": "<div>\n<style scoped>\n    .dataframe tbody tr th:only-of-type {\n        vertical-align: middle;\n    }\n\n    .dataframe tbody tr th {\n        vertical-align: top;\n    }\n\n    .dataframe thead th {\n        text-align: right;\n    }\n</style>\n<table border=\"1\" class=\"dataframe\">\n  <thead>\n    <tr style=\"text-align: right;\">\n      <th></th>\n      <th>Pred 1.0</th>\n      <th>Pred 2.0</th>\n      <th>Pred 3.0</th>\n      <th>Pred 4.0</th>\n      <th>Pred 5.0</th>\n    </tr>\n  </thead>\n  <tbody>\n    <tr>\n      <th>True 1.0</th>\n      <td>1510</td>\n      <td>520</td>\n      <td>171</td>\n      <td>109</td>\n      <td>136</td>\n    </tr>\n    <tr>\n      <th>True 2.0</th>\n      <td>689</td>\n      <td>840</td>\n      <td>454</td>\n      <td>301</td>\n      <td>162</td>\n    </tr>\n    <tr>\n      <th>True 3.0</th>\n      <td>365</td>\n      <td>626</td>\n      <td>599</td>\n      <td>597</td>\n      <td>259</td>\n    </tr>\n    <tr>\n      <th>True 4.0</th>\n      <td>184</td>\n      <td>277</td>\n      <td>413</td>\n      <td>962</td>\n      <td>610</td>\n    </tr>\n    <tr>\n      <th>True 5.0</th>\n      <td>159</td>\n      <td>135</td>\n      <td>167</td>\n      <td>540</td>\n      <td>1445</td>\n    </tr>\n  </tbody>\n</table>\n</div>"
     },
     "metadata": {},
     "output_type": "display_data"
    }
   ],
   "source": [
    "from src.cluster_cascade_classifier import ClusterCascadeClassifier\n",
    "from src.utils.vector_space_analysis import clusterize_by_vectors, clusterize_by_distance\n",
    "from sklearn.preprocessing import FunctionTransformer\n",
    "from imblearn.pipeline import Pipeline\n",
    "from imblearn.over_sampling import SMOTE\n",
    "from sklearn.svm import SVC\n",
    "from IPython.display import display\n",
    "\n",
    "X, y = df['text_pp'], df['score'].to_numpy()\n",
    "\n",
    "model_factory = lambda: ClusterCascadeClassifier(\n",
    "    clustering_func=lambda x: clusterize_by_vectors(x, cluster_count=2),\n",
    "    cluster_classifier_factory=lambda: Pipeline([\n",
    "        ('embd', FunctionTransformer(func=glove_vectorization)),\n",
    "        ('smote', SMOTE(random_state=0)),\n",
    "        ('mnb', SVC(random_state=0)),\n",
    "    ]),\n",
    "    label_classifier_factory=lambda: Pipeline([\n",
    "        ('embd', FunctionTransformer(func=glove_vectorization)),\n",
    "        ('smote', SMOTE(random_state=0)),\n",
    "        ('svc', SVC(random_state=0)),\n",
    "    ]),\n",
    "    vectorize_func=glove_vectorization\n",
    ")\n",
    "\n",
    "weighted_f1, report_df, confusion_df = get_cross_validation_report(\n",
    "    X, y,\n",
    "    model_factory=model_factory,\n",
    "    seed=0\n",
    ")\n",
    "print(weighted_f1)\n",
    "display(report_df)\n",
    "display(confusion_df)"
   ],
   "metadata": {
    "collapsed": false,
    "pycharm": {
     "name": "#%%\n"
    }
   }
  },
  {
   "cell_type": "code",
   "execution_count": null,
   "outputs": [],
   "source": [],
   "metadata": {
    "collapsed": false,
    "pycharm": {
     "name": "#%%\n"
    }
   }
  },
  {
   "cell_type": "markdown",
   "source": [
    "# Mixed cascade classification"
   ],
   "metadata": {
    "collapsed": false,
    "pycharm": {
     "name": "#%% md\n"
    }
   }
  },
  {
   "cell_type": "code",
   "execution_count": null,
   "outputs": [
    {
     "name": "stderr",
     "output_type": "stream",
     "text": [
      " 60%|██████    | 3/5 [05:05<03:28, 104.26s/it]"
     ]
    }
   ],
   "source": [
    "from imblearn.pipeline import Pipeline\n",
    "from imblearn.over_sampling import SMOTE\n",
    "from sklearn.feature_extraction.text import TfidfVectorizer\n",
    "from sklearn.naive_bayes import MultinomialNB\n",
    "from sklearn.svm import SVC\n",
    "from sklearn.preprocessing import FunctionTransformer\n",
    "from IPython.display import display\n",
    "\n",
    "X, y = df['text_pp'], df['score'].to_numpy()\n",
    "\n",
    "model_factory = lambda: ClusterCascadeClassifier(\n",
    "    clustering_func=clusterize_by_vectors,\n",
    "    cluster_classifier_factory=lambda: Pipeline([\n",
    "        ('tfidf', TfidfVectorizer(ngram_range=(1, 1), tokenizer=lambda row: tokenize(row, stem=True))),\n",
    "        ('smote', SMOTE(random_state=0)),\n",
    "        ('mnb', SVC(random_state=0)),\n",
    "    ]),\n",
    "    label_classifier_factory=lambda: Pipeline([\n",
    "        ('tfidf', TfidfVectorizer(ngram_range=(1, 1), tokenizer=lambda row: tokenize(row, stem=True))),\n",
    "        ('smote', SMOTE(random_state=0)),\n",
    "        ('svc', SVC(random_state=0)),\n",
    "    ]),\n",
    "    vectorize_func=lambda row: average_vectorizations(row, glove_embeddings)\n",
    ")\n",
    "\n",
    "weighted_f1, report_df, confusion_df = get_cross_validation_report(\n",
    "    X, y,\n",
    "    model_factory=model_factory,\n",
    "    seed=0\n",
    ")\n",
    "print(weighted_f1)\n",
    "display(report_df)\n",
    "display(confusion_df)"
   ],
   "metadata": {
    "collapsed": false,
    "pycharm": {
     "name": "#%%\n",
     "is_executing": true
    }
   }
  },
  {
   "cell_type": "code",
   "execution_count": null,
   "outputs": [],
   "source": [],
   "metadata": {
    "collapsed": false,
    "pycharm": {
     "name": "#%%\n"
    }
   }
  }
 ],
 "metadata": {
  "kernelspec": {
   "display_name": "Python 3",
   "language": "python",
   "name": "python3"
  },
  "language_info": {
   "codemirror_mode": {
    "name": "ipython",
    "version": 2
   },
   "file_extension": ".py",
   "mimetype": "text/x-python",
   "name": "python",
   "nbconvert_exporter": "python",
   "pygments_lexer": "ipython2",
   "version": "2.7.6"
  }
 },
 "nbformat": 4,
 "nbformat_minor": 0
}
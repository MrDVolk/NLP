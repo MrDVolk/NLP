{
 "cells": [
  {
   "cell_type": "code",
   "execution_count": 1,
   "outputs": [
    {
     "name": "stderr",
     "output_type": "stream",
     "text": [
      "C:\\Users\\Dmitry.Volkov\\Anaconda3\\envs\\support-cases-2\\lib\\site-packages\\scipy\\__init__.py:146: UserWarning: A NumPy version >=1.16.5 and <1.23.0 is required for this version of SciPy (detected version 1.23.1\n",
      "  warnings.warn(f\"A NumPy version >={np_minversion} and <{np_maxversion}\"\n",
      "100%|██████████| 12230/12230 [00:02<00:00, 5780.99it/s]\n"
     ]
    }
   ],
   "source": [
    "import numpy as np\n",
    "%load_ext autoreload\n",
    "%autoreload 2\n",
    "\n",
    "import pandas as pd\n",
    "import numpy as np\n",
    "from src.utils.text_preprocessing import preprocess_text, tokenize\n",
    "from src.utils.reporting import get_cross_validation_report\n",
    "from src.utils.vector_space_analysis import *\n",
    "from src.utils.common import *\n",
    "from tqdm import tqdm\n",
    "tqdm.pandas()\n",
    "\n",
    "df = pd.read_csv('data/reviews_excerpt.csv')\n",
    "with warnings.catch_warnings():\n",
    "    warnings.simplefilter(\"ignore\")\n",
    "\n",
    "    df['text_pp'] = df['text'].progress_apply(lambda row: preprocess_text(row, removing_stopwords=False))"
   ],
   "metadata": {
    "collapsed": false,
    "pycharm": {
     "name": "#%%\n"
    }
   }
  },
  {
   "cell_type": "code",
   "execution_count": 3,
   "outputs": [
    {
     "name": "stderr",
     "output_type": "stream",
     "text": [
      "Some weights of the model checkpoint at bert-base-uncased were not used when initializing BertModel: ['cls.predictions.bias', 'cls.seq_relationship.bias', 'cls.predictions.transform.dense.bias', 'cls.predictions.decoder.weight', 'cls.predictions.transform.LayerNorm.weight', 'cls.predictions.transform.dense.weight', 'cls.predictions.transform.LayerNorm.bias', 'cls.seq_relationship.weight']\n",
      "- This IS expected if you are initializing BertModel from the checkpoint of a model trained on another task or with another architecture (e.g. initializing a BertForSequenceClassification model from a BertForPreTraining model).\n",
      "- This IS NOT expected if you are initializing BertModel from the checkpoint of a model that you expect to be exactly identical (initializing a BertForSequenceClassification model from a BertForSequenceClassification model).\n"
     ]
    }
   ],
   "source": [
    "from transformers import BertTokenizer, BertModel\n",
    "\n",
    "tokenizer = BertTokenizer.from_pretrained(\"bert-base-uncased\")\n",
    "bert_model = BertModel.from_pretrained(\"bert-base-uncased\")"
   ],
   "metadata": {
    "collapsed": false,
    "pycharm": {
     "name": "#%%\n"
    }
   }
  },
  {
   "cell_type": "markdown",
   "source": [
    "# Simple approach"
   ],
   "metadata": {
    "collapsed": false,
    "pycharm": {
     "name": "#%% md\n"
    }
   }
  },
  {
   "cell_type": "code",
   "execution_count": 5,
   "outputs": [
    {
     "name": "stderr",
     "output_type": "stream",
     "text": [
      "100%|██████████| 5/5 [06:54<00:00, 83.00s/it] "
     ]
    },
    {
     "name": "stdout",
     "output_type": "stream",
     "text": [
      "0.4596\n"
     ]
    },
    {
     "name": "stderr",
     "output_type": "stream",
     "text": [
      "\n"
     ]
    },
    {
     "data": {
      "text/plain": "     precision    recall        f1  support\n1.0   0.540881  0.569536  0.554839    302.0\n2.0   0.325203  0.321285  0.323232    249.0\n3.0   0.339100  0.426087  0.377649    230.0\n4.0   0.388393  0.291946  0.333333    298.0\n5.0   0.615776  0.618926  0.617347    391.0",
      "text/html": "<div>\n<style scoped>\n    .dataframe tbody tr th:only-of-type {\n        vertical-align: middle;\n    }\n\n    .dataframe tbody tr th {\n        vertical-align: top;\n    }\n\n    .dataframe thead th {\n        text-align: right;\n    }\n</style>\n<table border=\"1\" class=\"dataframe\">\n  <thead>\n    <tr style=\"text-align: right;\">\n      <th></th>\n      <th>precision</th>\n      <th>recall</th>\n      <th>f1</th>\n      <th>support</th>\n    </tr>\n  </thead>\n  <tbody>\n    <tr>\n      <th>1.0</th>\n      <td>0.540881</td>\n      <td>0.569536</td>\n      <td>0.554839</td>\n      <td>302.0</td>\n    </tr>\n    <tr>\n      <th>2.0</th>\n      <td>0.325203</td>\n      <td>0.321285</td>\n      <td>0.323232</td>\n      <td>249.0</td>\n    </tr>\n    <tr>\n      <th>3.0</th>\n      <td>0.339100</td>\n      <td>0.426087</td>\n      <td>0.377649</td>\n      <td>230.0</td>\n    </tr>\n    <tr>\n      <th>4.0</th>\n      <td>0.388393</td>\n      <td>0.291946</td>\n      <td>0.333333</td>\n      <td>298.0</td>\n    </tr>\n    <tr>\n      <th>5.0</th>\n      <td>0.615776</td>\n      <td>0.618926</td>\n      <td>0.617347</td>\n      <td>391.0</td>\n    </tr>\n  </tbody>\n</table>\n</div>"
     },
     "metadata": {},
     "output_type": "display_data"
    },
    {
     "data": {
      "text/plain": "          Pred 1.0  Pred 2.0  Pred 3.0  Pred 4.0  Pred 5.0\nTrue 1.0       172        69        34        11        16\nTrue 2.0        62        80        74        20        13\nTrue 3.0        35        55        98        25        17\nTrue 4.0        18        29        59        87       105\nTrue 5.0        31        13        24        81       242",
      "text/html": "<div>\n<style scoped>\n    .dataframe tbody tr th:only-of-type {\n        vertical-align: middle;\n    }\n\n    .dataframe tbody tr th {\n        vertical-align: top;\n    }\n\n    .dataframe thead th {\n        text-align: right;\n    }\n</style>\n<table border=\"1\" class=\"dataframe\">\n  <thead>\n    <tr style=\"text-align: right;\">\n      <th></th>\n      <th>Pred 1.0</th>\n      <th>Pred 2.0</th>\n      <th>Pred 3.0</th>\n      <th>Pred 4.0</th>\n      <th>Pred 5.0</th>\n    </tr>\n  </thead>\n  <tbody>\n    <tr>\n      <th>True 1.0</th>\n      <td>172</td>\n      <td>69</td>\n      <td>34</td>\n      <td>11</td>\n      <td>16</td>\n    </tr>\n    <tr>\n      <th>True 2.0</th>\n      <td>62</td>\n      <td>80</td>\n      <td>74</td>\n      <td>20</td>\n      <td>13</td>\n    </tr>\n    <tr>\n      <th>True 3.0</th>\n      <td>35</td>\n      <td>55</td>\n      <td>98</td>\n      <td>25</td>\n      <td>17</td>\n    </tr>\n    <tr>\n      <th>True 4.0</th>\n      <td>18</td>\n      <td>29</td>\n      <td>59</td>\n      <td>87</td>\n      <td>105</td>\n    </tr>\n    <tr>\n      <th>True 5.0</th>\n      <td>31</td>\n      <td>13</td>\n      <td>24</td>\n      <td>81</td>\n      <td>242</td>\n    </tr>\n  </tbody>\n</table>\n</div>"
     },
     "metadata": {},
     "output_type": "display_data"
    }
   ],
   "source": [
    "from imblearn.pipeline import Pipeline\n",
    "from imblearn.over_sampling import SMOTE\n",
    "from sklearn.svm import SVC\n",
    "from sklearn.linear_model import SGDClassifier\n",
    "from IPython.display import display\n",
    "from src.bert_transformer import BertTransformer\n",
    "\n",
    "max_length = 140\n",
    "\n",
    "cc = df['text'].apply(lambda row: len(row))\n",
    "sample_df = df[cc <= max_length].copy().reset_index(drop=True)\n",
    "\n",
    "X, y = sample_df['text_pp'], sample_df['score'].to_numpy()\n",
    "\n",
    "weighted_f1, report_df, confusion_df = get_cross_validation_report(\n",
    "    X, y,\n",
    "    model_factory=lambda: Pipeline([\n",
    "        ('bert', BertTransformer(tokenizer, bert_model, max_length=max_length, use_attention_mask=False)),\n",
    "        ('smote', SMOTE()),\n",
    "        ('svc', SVC()),\n",
    "    ]),\n",
    "    seed=0\n",
    ")\n",
    "print(weighted_f1)\n",
    "display(report_df)\n",
    "display(confusion_df)"
   ],
   "metadata": {
    "collapsed": false,
    "pycharm": {
     "name": "#%%\n"
    }
   }
  },
  {
   "cell_type": "code",
   "execution_count": null,
   "outputs": [],
   "source": [],
   "metadata": {
    "collapsed": false,
    "pycharm": {
     "name": "#%%\n"
    }
   }
  },
  {
   "cell_type": "markdown",
   "source": [
    "# Approach with attention mask"
   ],
   "metadata": {
    "collapsed": false,
    "pycharm": {
     "name": "#%% md\n"
    }
   }
  },
  {
   "cell_type": "code",
   "execution_count": 6,
   "outputs": [
    {
     "name": "stderr",
     "output_type": "stream",
     "text": [
      "100%|██████████| 5/5 [06:03<00:00, 72.80s/it]"
     ]
    },
    {
     "name": "stdout",
     "output_type": "stream",
     "text": [
      "0.4602\n"
     ]
    },
    {
     "name": "stderr",
     "output_type": "stream",
     "text": [
      "\n"
     ]
    },
    {
     "data": {
      "text/plain": "     precision    recall        f1  support\n1.0   0.532258  0.546358  0.539216    302.0\n2.0   0.326923  0.341365  0.333988    249.0\n3.0   0.330882  0.391304  0.358566    230.0\n4.0   0.399160  0.318792  0.354478    298.0\n5.0   0.620513  0.618926  0.619718    391.0",
      "text/html": "<div>\n<style scoped>\n    .dataframe tbody tr th:only-of-type {\n        vertical-align: middle;\n    }\n\n    .dataframe tbody tr th {\n        vertical-align: top;\n    }\n\n    .dataframe thead th {\n        text-align: right;\n    }\n</style>\n<table border=\"1\" class=\"dataframe\">\n  <thead>\n    <tr style=\"text-align: right;\">\n      <th></th>\n      <th>precision</th>\n      <th>recall</th>\n      <th>f1</th>\n      <th>support</th>\n    </tr>\n  </thead>\n  <tbody>\n    <tr>\n      <th>1.0</th>\n      <td>0.532258</td>\n      <td>0.546358</td>\n      <td>0.539216</td>\n      <td>302.0</td>\n    </tr>\n    <tr>\n      <th>2.0</th>\n      <td>0.326923</td>\n      <td>0.341365</td>\n      <td>0.333988</td>\n      <td>249.0</td>\n    </tr>\n    <tr>\n      <th>3.0</th>\n      <td>0.330882</td>\n      <td>0.391304</td>\n      <td>0.358566</td>\n      <td>230.0</td>\n    </tr>\n    <tr>\n      <th>4.0</th>\n      <td>0.399160</td>\n      <td>0.318792</td>\n      <td>0.354478</td>\n      <td>298.0</td>\n    </tr>\n    <tr>\n      <th>5.0</th>\n      <td>0.620513</td>\n      <td>0.618926</td>\n      <td>0.619718</td>\n      <td>391.0</td>\n    </tr>\n  </tbody>\n</table>\n</div>"
     },
     "metadata": {},
     "output_type": "display_data"
    },
    {
     "data": {
      "text/plain": "          Pred 1.0  Pred 2.0  Pred 3.0  Pred 4.0  Pred 5.0\nTrue 1.0       165        76        33        11        17\nTrue 2.0        59        85        71        21        13\nTrue 3.0        41        56        90        30        13\nTrue 4.0        15        29        54        95       105\nTrue 5.0        30        14        24        81       242",
      "text/html": "<div>\n<style scoped>\n    .dataframe tbody tr th:only-of-type {\n        vertical-align: middle;\n    }\n\n    .dataframe tbody tr th {\n        vertical-align: top;\n    }\n\n    .dataframe thead th {\n        text-align: right;\n    }\n</style>\n<table border=\"1\" class=\"dataframe\">\n  <thead>\n    <tr style=\"text-align: right;\">\n      <th></th>\n      <th>Pred 1.0</th>\n      <th>Pred 2.0</th>\n      <th>Pred 3.0</th>\n      <th>Pred 4.0</th>\n      <th>Pred 5.0</th>\n    </tr>\n  </thead>\n  <tbody>\n    <tr>\n      <th>True 1.0</th>\n      <td>165</td>\n      <td>76</td>\n      <td>33</td>\n      <td>11</td>\n      <td>17</td>\n    </tr>\n    <tr>\n      <th>True 2.0</th>\n      <td>59</td>\n      <td>85</td>\n      <td>71</td>\n      <td>21</td>\n      <td>13</td>\n    </tr>\n    <tr>\n      <th>True 3.0</th>\n      <td>41</td>\n      <td>56</td>\n      <td>90</td>\n      <td>30</td>\n      <td>13</td>\n    </tr>\n    <tr>\n      <th>True 4.0</th>\n      <td>15</td>\n      <td>29</td>\n      <td>54</td>\n      <td>95</td>\n      <td>105</td>\n    </tr>\n    <tr>\n      <th>True 5.0</th>\n      <td>30</td>\n      <td>14</td>\n      <td>24</td>\n      <td>81</td>\n      <td>242</td>\n    </tr>\n  </tbody>\n</table>\n</div>"
     },
     "metadata": {},
     "output_type": "display_data"
    }
   ],
   "source": [
    "from imblearn.pipeline import Pipeline\n",
    "from imblearn.over_sampling import SMOTE\n",
    "from sklearn.svm import SVC\n",
    "from sklearn.linear_model import SGDClassifier\n",
    "from IPython.display import display\n",
    "from src.bert_transformer import BertTransformer\n",
    "\n",
    "max_length = 140\n",
    "\n",
    "cc = df['text'].apply(lambda row: len(row))\n",
    "sample_df = df[cc <= max_length].copy().reset_index(drop=True)\n",
    "\n",
    "X, y = sample_df['text_pp'], sample_df['score'].to_numpy()\n",
    "\n",
    "weighted_f1, report_df, confusion_df = get_cross_validation_report(\n",
    "    X, y,\n",
    "    model_factory=lambda: Pipeline([\n",
    "        ('bert', BertTransformer(tokenizer, bert_model, max_length=max_length, use_attention_mask=True)),\n",
    "        ('smote', SMOTE()),\n",
    "        ('svc', SVC()),\n",
    "    ]),\n",
    "    seed=0\n",
    ")\n",
    "print(weighted_f1)\n",
    "display(report_df)\n",
    "display(confusion_df)"
   ],
   "metadata": {
    "collapsed": false,
    "pycharm": {
     "name": "#%%\n"
    }
   }
  },
  {
   "cell_type": "code",
   "execution_count": null,
   "outputs": [],
   "source": [],
   "metadata": {
    "collapsed": false,
    "pycharm": {
     "name": "#%%\n"
    }
   }
  },
  {
   "cell_type": "markdown",
   "source": [
    "# Feature union"
   ],
   "metadata": {
    "collapsed": false,
    "pycharm": {
     "name": "#%% md\n"
    }
   }
  },
  {
   "cell_type": "code",
   "execution_count": 7,
   "outputs": [
    {
     "name": "stderr",
     "output_type": "stream",
     "text": [
      "  0%|          | 0/5 [00:00<?, ?it/s]C:\\Users\\Dmitry.Volkov\\Anaconda3\\envs\\support-cases-2\\lib\\site-packages\\scipy\\sparse\\construct.py:547: FutureWarning: The input object of type 'Tensor' is an array-like implementing one of the corresponding protocols (`__array__`, `__array_interface__` or `__array_struct__`); but not a sequence (or 0-D). In the future, this object will be coerced as if it was first converted using `np.array(obj)`. To retain the old behaviour, you have to either modify the type 'Tensor', or assign to an empty array created with `np.empty(correct_shape, dtype=object)`.\n",
      "  blocks = np.asarray(blocks, dtype='object')\n",
      "C:\\Users\\Dmitry.Volkov\\Anaconda3\\envs\\support-cases-2\\lib\\site-packages\\scipy\\sparse\\construct.py:547: FutureWarning: The input object of type 'Tensor' is an array-like implementing one of the corresponding protocols (`__array__`, `__array_interface__` or `__array_struct__`); but not a sequence (or 0-D). In the future, this object will be coerced as if it was first converted using `np.array(obj)`. To retain the old behaviour, you have to either modify the type 'Tensor', or assign to an empty array created with `np.empty(correct_shape, dtype=object)`.\n",
      "  blocks = np.asarray(blocks, dtype='object')\n",
      " 20%|██        | 1/5 [01:19<05:17, 79.28s/it]C:\\Users\\Dmitry.Volkov\\Anaconda3\\envs\\support-cases-2\\lib\\site-packages\\scipy\\sparse\\construct.py:547: FutureWarning: The input object of type 'Tensor' is an array-like implementing one of the corresponding protocols (`__array__`, `__array_interface__` or `__array_struct__`); but not a sequence (or 0-D). In the future, this object will be coerced as if it was first converted using `np.array(obj)`. To retain the old behaviour, you have to either modify the type 'Tensor', or assign to an empty array created with `np.empty(correct_shape, dtype=object)`.\n",
      "  blocks = np.asarray(blocks, dtype='object')\n",
      "C:\\Users\\Dmitry.Volkov\\Anaconda3\\envs\\support-cases-2\\lib\\site-packages\\scipy\\sparse\\construct.py:547: FutureWarning: The input object of type 'Tensor' is an array-like implementing one of the corresponding protocols (`__array__`, `__array_interface__` or `__array_struct__`); but not a sequence (or 0-D). In the future, this object will be coerced as if it was first converted using `np.array(obj)`. To retain the old behaviour, you have to either modify the type 'Tensor', or assign to an empty array created with `np.empty(correct_shape, dtype=object)`.\n",
      "  blocks = np.asarray(blocks, dtype='object')\n",
      " 40%|████      | 2/5 [02:19<03:24, 68.25s/it]C:\\Users\\Dmitry.Volkov\\Anaconda3\\envs\\support-cases-2\\lib\\site-packages\\scipy\\sparse\\construct.py:547: FutureWarning: The input object of type 'Tensor' is an array-like implementing one of the corresponding protocols (`__array__`, `__array_interface__` or `__array_struct__`); but not a sequence (or 0-D). In the future, this object will be coerced as if it was first converted using `np.array(obj)`. To retain the old behaviour, you have to either modify the type 'Tensor', or assign to an empty array created with `np.empty(correct_shape, dtype=object)`.\n",
      "  blocks = np.asarray(blocks, dtype='object')\n",
      "C:\\Users\\Dmitry.Volkov\\Anaconda3\\envs\\support-cases-2\\lib\\site-packages\\scipy\\sparse\\construct.py:547: FutureWarning: The input object of type 'Tensor' is an array-like implementing one of the corresponding protocols (`__array__`, `__array_interface__` or `__array_struct__`); but not a sequence (or 0-D). In the future, this object will be coerced as if it was first converted using `np.array(obj)`. To retain the old behaviour, you have to either modify the type 'Tensor', or assign to an empty array created with `np.empty(correct_shape, dtype=object)`.\n",
      "  blocks = np.asarray(blocks, dtype='object')\n",
      " 60%|██████    | 3/5 [03:21<02:10, 65.09s/it]C:\\Users\\Dmitry.Volkov\\Anaconda3\\envs\\support-cases-2\\lib\\site-packages\\scipy\\sparse\\construct.py:547: FutureWarning: The input object of type 'Tensor' is an array-like implementing one of the corresponding protocols (`__array__`, `__array_interface__` or `__array_struct__`); but not a sequence (or 0-D). In the future, this object will be coerced as if it was first converted using `np.array(obj)`. To retain the old behaviour, you have to either modify the type 'Tensor', or assign to an empty array created with `np.empty(correct_shape, dtype=object)`.\n",
      "  blocks = np.asarray(blocks, dtype='object')\n",
      "C:\\Users\\Dmitry.Volkov\\Anaconda3\\envs\\support-cases-2\\lib\\site-packages\\scipy\\sparse\\construct.py:547: FutureWarning: The input object of type 'Tensor' is an array-like implementing one of the corresponding protocols (`__array__`, `__array_interface__` or `__array_struct__`); but not a sequence (or 0-D). In the future, this object will be coerced as if it was first converted using `np.array(obj)`. To retain the old behaviour, you have to either modify the type 'Tensor', or assign to an empty array created with `np.empty(correct_shape, dtype=object)`.\n",
      "  blocks = np.asarray(blocks, dtype='object')\n",
      " 80%|████████  | 4/5 [04:21<01:03, 63.39s/it]C:\\Users\\Dmitry.Volkov\\Anaconda3\\envs\\support-cases-2\\lib\\site-packages\\scipy\\sparse\\construct.py:547: FutureWarning: The input object of type 'Tensor' is an array-like implementing one of the corresponding protocols (`__array__`, `__array_interface__` or `__array_struct__`); but not a sequence (or 0-D). In the future, this object will be coerced as if it was first converted using `np.array(obj)`. To retain the old behaviour, you have to either modify the type 'Tensor', or assign to an empty array created with `np.empty(correct_shape, dtype=object)`.\n",
      "  blocks = np.asarray(blocks, dtype='object')\n",
      "C:\\Users\\Dmitry.Volkov\\Anaconda3\\envs\\support-cases-2\\lib\\site-packages\\scipy\\sparse\\construct.py:547: FutureWarning: The input object of type 'Tensor' is an array-like implementing one of the corresponding protocols (`__array__`, `__array_interface__` or `__array_struct__`); but not a sequence (or 0-D). In the future, this object will be coerced as if it was first converted using `np.array(obj)`. To retain the old behaviour, you have to either modify the type 'Tensor', or assign to an empty array created with `np.empty(correct_shape, dtype=object)`.\n",
      "  blocks = np.asarray(blocks, dtype='object')\n",
      "100%|██████████| 5/5 [05:50<00:00, 70.14s/it]"
     ]
    },
    {
     "name": "stdout",
     "output_type": "stream",
     "text": [
      "0.4607\n"
     ]
    },
    {
     "name": "stderr",
     "output_type": "stream",
     "text": [
      "\n"
     ]
    },
    {
     "data": {
      "text/plain": "     precision    recall        f1  support\n1.0   0.545455  0.576159  0.560386    302.0\n2.0   0.349020  0.357430  0.353175    249.0\n3.0   0.329670  0.391304  0.357853    230.0\n4.0   0.364017  0.291946  0.324022    298.0\n5.0   0.622396  0.611253  0.616774    391.0",
      "text/html": "<div>\n<style scoped>\n    .dataframe tbody tr th:only-of-type {\n        vertical-align: middle;\n    }\n\n    .dataframe tbody tr th {\n        vertical-align: top;\n    }\n\n    .dataframe thead th {\n        text-align: right;\n    }\n</style>\n<table border=\"1\" class=\"dataframe\">\n  <thead>\n    <tr style=\"text-align: right;\">\n      <th></th>\n      <th>precision</th>\n      <th>recall</th>\n      <th>f1</th>\n      <th>support</th>\n    </tr>\n  </thead>\n  <tbody>\n    <tr>\n      <th>1.0</th>\n      <td>0.545455</td>\n      <td>0.576159</td>\n      <td>0.560386</td>\n      <td>302.0</td>\n    </tr>\n    <tr>\n      <th>2.0</th>\n      <td>0.349020</td>\n      <td>0.357430</td>\n      <td>0.353175</td>\n      <td>249.0</td>\n    </tr>\n    <tr>\n      <th>3.0</th>\n      <td>0.329670</td>\n      <td>0.391304</td>\n      <td>0.357853</td>\n      <td>230.0</td>\n    </tr>\n    <tr>\n      <th>4.0</th>\n      <td>0.364017</td>\n      <td>0.291946</td>\n      <td>0.324022</td>\n      <td>298.0</td>\n    </tr>\n    <tr>\n      <th>5.0</th>\n      <td>0.622396</td>\n      <td>0.611253</td>\n      <td>0.616774</td>\n      <td>391.0</td>\n    </tr>\n  </tbody>\n</table>\n</div>"
     },
     "metadata": {},
     "output_type": "display_data"
    },
    {
     "data": {
      "text/plain": "          Pred 1.0  Pred 2.0  Pred 3.0  Pred 4.0  Pred 5.0\nTrue 1.0       174        65        37        13        13\nTrue 2.0        59        89        67        21        13\nTrue 3.0        39        56        90        32        13\nTrue 4.0        17        30        58        87       106\nTrue 5.0        30        15        21        86       239",
      "text/html": "<div>\n<style scoped>\n    .dataframe tbody tr th:only-of-type {\n        vertical-align: middle;\n    }\n\n    .dataframe tbody tr th {\n        vertical-align: top;\n    }\n\n    .dataframe thead th {\n        text-align: right;\n    }\n</style>\n<table border=\"1\" class=\"dataframe\">\n  <thead>\n    <tr style=\"text-align: right;\">\n      <th></th>\n      <th>Pred 1.0</th>\n      <th>Pred 2.0</th>\n      <th>Pred 3.0</th>\n      <th>Pred 4.0</th>\n      <th>Pred 5.0</th>\n    </tr>\n  </thead>\n  <tbody>\n    <tr>\n      <th>True 1.0</th>\n      <td>174</td>\n      <td>65</td>\n      <td>37</td>\n      <td>13</td>\n      <td>13</td>\n    </tr>\n    <tr>\n      <th>True 2.0</th>\n      <td>59</td>\n      <td>89</td>\n      <td>67</td>\n      <td>21</td>\n      <td>13</td>\n    </tr>\n    <tr>\n      <th>True 3.0</th>\n      <td>39</td>\n      <td>56</td>\n      <td>90</td>\n      <td>32</td>\n      <td>13</td>\n    </tr>\n    <tr>\n      <th>True 4.0</th>\n      <td>17</td>\n      <td>30</td>\n      <td>58</td>\n      <td>87</td>\n      <td>106</td>\n    </tr>\n    <tr>\n      <th>True 5.0</th>\n      <td>30</td>\n      <td>15</td>\n      <td>21</td>\n      <td>86</td>\n      <td>239</td>\n    </tr>\n  </tbody>\n</table>\n</div>"
     },
     "metadata": {},
     "output_type": "display_data"
    }
   ],
   "source": [
    "from imblearn.pipeline import Pipeline\n",
    "from imblearn.over_sampling import SMOTE\n",
    "from sklearn.svm import SVC\n",
    "from sklearn.feature_extraction.text import TfidfVectorizer\n",
    "from sklearn.linear_model import SGDClassifier\n",
    "from sklearn.pipeline import FeatureUnion\n",
    "from IPython.display import display\n",
    "\n",
    "max_length = 140\n",
    "\n",
    "cc = df['text'].apply(lambda row: len(row))\n",
    "sample_df = df[cc <= max_length].copy().reset_index(drop=True)\n",
    "\n",
    "X, y = sample_df['text_pp'], sample_df['score'].to_numpy()\n",
    "\n",
    "weighted_f1, report_df, confusion_df = get_cross_validation_report(\n",
    "    X, y,\n",
    "    model_factory=lambda: Pipeline([\n",
    "        ('transform', FeatureUnion([\n",
    "            ('bert', BertTransformer(tokenizer, bert_model, max_length=max_length)),\n",
    "            ('tfidf', TfidfVectorizer(ngram_range=(1, 1), tokenizer=lambda row: tokenize(row, stem=True))),\n",
    "        ])),\n",
    "        ('smote', SMOTE()),\n",
    "        ('svc', SVC()),\n",
    "    ]),\n",
    "    seed=0\n",
    ")\n",
    "print(weighted_f1)\n",
    "display(report_df)\n",
    "display(confusion_df)"
   ],
   "metadata": {
    "collapsed": false,
    "pycharm": {
     "name": "#%%\n"
    }
   }
  },
  {
   "cell_type": "code",
   "execution_count": null,
   "outputs": [],
   "source": [],
   "metadata": {
    "collapsed": false,
    "pycharm": {
     "name": "#%%\n"
    }
   }
  }
 ],
 "metadata": {
  "kernelspec": {
   "display_name": "Python 3",
   "language": "python",
   "name": "python3"
  },
  "language_info": {
   "codemirror_mode": {
    "name": "ipython",
    "version": 2
   },
   "file_extension": ".py",
   "mimetype": "text/x-python",
   "name": "python",
   "nbconvert_exporter": "python",
   "pygments_lexer": "ipython2",
   "version": "2.7.6"
  }
 },
 "nbformat": 4,
 "nbformat_minor": 0
}
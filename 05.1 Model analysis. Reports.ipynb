{
 "cells": [
  {
   "cell_type": "code",
   "execution_count": 1,
   "outputs": [
    {
     "name": "stderr",
     "output_type": "stream",
     "text": [
      "C:\\Users\\Dmitry.Volkov\\Anaconda3\\envs\\support-cases\\lib\\site-packages\\scipy\\__init__.py:146: UserWarning: A NumPy version >=1.16.5 and <1.23.0 is required for this version of SciPy (detected version 1.23.1\n",
      "  warnings.warn(f\"A NumPy version >={np_minversion} and <{np_maxversion}\"\n",
      "100%|██████████| 12230/12230 [00:01<00:00, 6508.23it/s]\n"
     ]
    }
   ],
   "source": [
    "%load_ext autoreload\n",
    "%autoreload 2\n",
    "\n",
    "import pandas as pd\n",
    "from src.utils.text_preprocessing import preprocess_text, tokenize\n",
    "from src.utils.reporting import get_cross_validation_report\n",
    "from src.utils.classification_analysis import *\n",
    "import warnings\n",
    "from tqdm import tqdm\n",
    "tqdm.pandas()\n",
    "\n",
    "df = pd.read_csv('data/reviews_excerpt.csv')\n",
    "with warnings.catch_warnings():\n",
    "    warnings.simplefilter(\"ignore\")\n",
    "\n",
    "    df['text_pp'] = df['text'].progress_apply(preprocess_text)"
   ],
   "metadata": {
    "collapsed": false,
    "pycharm": {
     "name": "#%%\n"
    }
   }
  },
  {
   "cell_type": "code",
   "execution_count": 2,
   "outputs": [
    {
     "name": "stderr",
     "output_type": "stream",
     "text": [
      "100%|██████████| 5/5 [01:08<00:00, 13.69s/it]"
     ]
    },
    {
     "name": "stdout",
     "output_type": "stream",
     "text": [
      "0.4573\n"
     ]
    },
    {
     "name": "stderr",
     "output_type": "stream",
     "text": [
      "\n"
     ]
    },
    {
     "data": {
      "text/plain": "     precision    recall        f1  support\n1.0   0.557300  0.580540  0.568682   2446.0\n2.0   0.388811  0.340965  0.363320   2446.0\n3.0   0.358504  0.415372  0.384848   2446.0\n4.0   0.396526  0.438675  0.416537   2446.0\n5.0   0.615423  0.502453  0.553230   2446.0",
      "text/html": "<div>\n<style scoped>\n    .dataframe tbody tr th:only-of-type {\n        vertical-align: middle;\n    }\n\n    .dataframe tbody tr th {\n        vertical-align: top;\n    }\n\n    .dataframe thead th {\n        text-align: right;\n    }\n</style>\n<table border=\"1\" class=\"dataframe\">\n  <thead>\n    <tr style=\"text-align: right;\">\n      <th></th>\n      <th>precision</th>\n      <th>recall</th>\n      <th>f1</th>\n      <th>support</th>\n    </tr>\n  </thead>\n  <tbody>\n    <tr>\n      <th>1.0</th>\n      <td>0.557300</td>\n      <td>0.580540</td>\n      <td>0.568682</td>\n      <td>2446.0</td>\n    </tr>\n    <tr>\n      <th>2.0</th>\n      <td>0.388811</td>\n      <td>0.340965</td>\n      <td>0.363320</td>\n      <td>2446.0</td>\n    </tr>\n    <tr>\n      <th>3.0</th>\n      <td>0.358504</td>\n      <td>0.415372</td>\n      <td>0.384848</td>\n      <td>2446.0</td>\n    </tr>\n    <tr>\n      <th>4.0</th>\n      <td>0.396526</td>\n      <td>0.438675</td>\n      <td>0.416537</td>\n      <td>2446.0</td>\n    </tr>\n    <tr>\n      <th>5.0</th>\n      <td>0.615423</td>\n      <td>0.502453</td>\n      <td>0.553230</td>\n      <td>2446.0</td>\n    </tr>\n  </tbody>\n</table>\n</div>"
     },
     "metadata": {},
     "output_type": "display_data"
    },
    {
     "data": {
      "text/plain": "          Pred 1.0  Pred 2.0  Pred 3.0  Pred 4.0  Pred 5.0\nTrue 1.0      1420       539       289       122        76\nTrue 2.0       547       834       668       296       101\nTrue 3.0       288       446      1016       549       147\nTrue 4.0       140       193       596      1073       444\nTrue 5.0       153       133       265       666      1229",
      "text/html": "<div>\n<style scoped>\n    .dataframe tbody tr th:only-of-type {\n        vertical-align: middle;\n    }\n\n    .dataframe tbody tr th {\n        vertical-align: top;\n    }\n\n    .dataframe thead th {\n        text-align: right;\n    }\n</style>\n<table border=\"1\" class=\"dataframe\">\n  <thead>\n    <tr style=\"text-align: right;\">\n      <th></th>\n      <th>Pred 1.0</th>\n      <th>Pred 2.0</th>\n      <th>Pred 3.0</th>\n      <th>Pred 4.0</th>\n      <th>Pred 5.0</th>\n    </tr>\n  </thead>\n  <tbody>\n    <tr>\n      <th>True 1.0</th>\n      <td>1420</td>\n      <td>539</td>\n      <td>289</td>\n      <td>122</td>\n      <td>76</td>\n    </tr>\n    <tr>\n      <th>True 2.0</th>\n      <td>547</td>\n      <td>834</td>\n      <td>668</td>\n      <td>296</td>\n      <td>101</td>\n    </tr>\n    <tr>\n      <th>True 3.0</th>\n      <td>288</td>\n      <td>446</td>\n      <td>1016</td>\n      <td>549</td>\n      <td>147</td>\n    </tr>\n    <tr>\n      <th>True 4.0</th>\n      <td>140</td>\n      <td>193</td>\n      <td>596</td>\n      <td>1073</td>\n      <td>444</td>\n    </tr>\n    <tr>\n      <th>True 5.0</th>\n      <td>153</td>\n      <td>133</td>\n      <td>265</td>\n      <td>666</td>\n      <td>1229</td>\n    </tr>\n  </tbody>\n</table>\n</div>"
     },
     "metadata": {},
     "output_type": "display_data"
    }
   ],
   "source": [
    "from sklearn.feature_extraction.text import TfidfVectorizer\n",
    "from sklearn.naive_bayes import MultinomialNB\n",
    "from imblearn.pipeline import Pipeline\n",
    "from imblearn.over_sampling import SMOTE\n",
    "from IPython.display import display\n",
    "\n",
    "X, y = df['text_pp'].to_numpy(), df['score'].to_numpy()\n",
    "\n",
    "weighted_f1, report_df, confusion_df, debug_df = get_debug_cross_validation_report(\n",
    "    df, 'text_pp', 'score',\n",
    "    model_factory=lambda: Pipeline([\n",
    "        ('tfidf', TfidfVectorizer(ngram_range=(1, 1), tokenizer=lambda row: tokenize(row, stem=True))),\n",
    "        ('smote', SMOTE(random_state=0)),\n",
    "        ('mnb', MultinomialNB()),\n",
    "    ]),\n",
    "    seed=0\n",
    ")\n",
    "print(weighted_f1)\n",
    "display(report_df)\n",
    "display(confusion_df)"
   ],
   "metadata": {
    "collapsed": false,
    "pycharm": {
     "name": "#%%\n"
    }
   }
  },
  {
   "cell_type": "code",
   "execution_count": 2,
   "outputs": [],
   "source": [],
   "metadata": {
    "collapsed": false,
    "pycharm": {
     "name": "#%%\n"
    }
   }
  },
  {
   "cell_type": "code",
   "execution_count": 11,
   "outputs": [
    {
     "name": "stderr",
     "output_type": "stream",
     "text": [
      "100%|██████████| 5/5 [00:00<00:00, 30.02it/s]\n"
     ]
    },
    {
     "data": {
      "text/plain": "  true_label predicted_label  f1_possible_improvement  priority\n0        2.0             3.0                   0.0527  1.000000\n1        3.0             4.0                   0.0404  0.735484\n2        1.0             2.0                   0.0376  0.675269\n3        4.0             5.0                   0.0374  0.670968\n4        2.0             4.0                   0.0249  0.402151\n5        1.0             3.0                   0.0201  0.298925\n6        3.0             5.0                   0.0125  0.135484\n7        2.0             5.0                   0.0096  0.073118\n8        1.0             4.0                   0.0088  0.055914\n9        1.0             5.0                   0.0062  0.000000",
      "text/html": "<div>\n<style scoped>\n    .dataframe tbody tr th:only-of-type {\n        vertical-align: middle;\n    }\n\n    .dataframe tbody tr th {\n        vertical-align: top;\n    }\n\n    .dataframe thead th {\n        text-align: right;\n    }\n</style>\n<table border=\"1\" class=\"dataframe\">\n  <thead>\n    <tr style=\"text-align: right;\">\n      <th></th>\n      <th>true_label</th>\n      <th>predicted_label</th>\n      <th>f1_possible_improvement</th>\n      <th>priority</th>\n    </tr>\n  </thead>\n  <tbody>\n    <tr>\n      <th>0</th>\n      <td>2.0</td>\n      <td>3.0</td>\n      <td>0.0527</td>\n      <td>1.000000</td>\n    </tr>\n    <tr>\n      <th>1</th>\n      <td>3.0</td>\n      <td>4.0</td>\n      <td>0.0404</td>\n      <td>0.735484</td>\n    </tr>\n    <tr>\n      <th>2</th>\n      <td>1.0</td>\n      <td>2.0</td>\n      <td>0.0376</td>\n      <td>0.675269</td>\n    </tr>\n    <tr>\n      <th>3</th>\n      <td>4.0</td>\n      <td>5.0</td>\n      <td>0.0374</td>\n      <td>0.670968</td>\n    </tr>\n    <tr>\n      <th>4</th>\n      <td>2.0</td>\n      <td>4.0</td>\n      <td>0.0249</td>\n      <td>0.402151</td>\n    </tr>\n    <tr>\n      <th>5</th>\n      <td>1.0</td>\n      <td>3.0</td>\n      <td>0.0201</td>\n      <td>0.298925</td>\n    </tr>\n    <tr>\n      <th>6</th>\n      <td>3.0</td>\n      <td>5.0</td>\n      <td>0.0125</td>\n      <td>0.135484</td>\n    </tr>\n    <tr>\n      <th>7</th>\n      <td>2.0</td>\n      <td>5.0</td>\n      <td>0.0096</td>\n      <td>0.073118</td>\n    </tr>\n    <tr>\n      <th>8</th>\n      <td>1.0</td>\n      <td>4.0</td>\n      <td>0.0088</td>\n      <td>0.055914</td>\n    </tr>\n    <tr>\n      <th>9</th>\n      <td>1.0</td>\n      <td>5.0</td>\n      <td>0.0062</td>\n      <td>0.000000</td>\n    </tr>\n  </tbody>\n</table>\n</div>"
     },
     "execution_count": 11,
     "metadata": {},
     "output_type": "execute_result"
    }
   ],
   "source": [
    "misclassification_df = get_misclassifications_report(confusion_df, calculate_improvements=True)\n",
    "misclassification_df"
   ],
   "metadata": {
    "collapsed": false,
    "pycharm": {
     "name": "#%%\n"
    }
   }
  },
  {
   "cell_type": "code",
   "execution_count": 3,
   "outputs": [],
   "source": [],
   "metadata": {
    "collapsed": false,
    "pycharm": {
     "name": "#%%\n"
    }
   }
  },
  {
   "cell_type": "code",
   "execution_count": 12,
   "outputs": [
    {
     "name": "stderr",
     "output_type": "stream",
     "text": [
      "100%|██████████| 5/5 [00:00<00:00, 4797.88it/s]\n"
     ]
    },
    {
     "data": {
      "text/plain": "  true_label predicted_label  count  priority\n0        2.0             3.0    668  1.000000\n1        3.0             4.0    549  0.798986\n2        1.0             2.0    539  0.782095\n3        4.0             5.0    444  0.621622\n4        2.0             4.0    296  0.371622\n5        1.0             3.0    289  0.359797\n6        3.0             5.0    147  0.119932\n7        1.0             4.0    122  0.077703\n8        2.0             5.0    101  0.042230\n9        1.0             5.0     76  0.000000",
      "text/html": "<div>\n<style scoped>\n    .dataframe tbody tr th:only-of-type {\n        vertical-align: middle;\n    }\n\n    .dataframe tbody tr th {\n        vertical-align: top;\n    }\n\n    .dataframe thead th {\n        text-align: right;\n    }\n</style>\n<table border=\"1\" class=\"dataframe\">\n  <thead>\n    <tr style=\"text-align: right;\">\n      <th></th>\n      <th>true_label</th>\n      <th>predicted_label</th>\n      <th>count</th>\n      <th>priority</th>\n    </tr>\n  </thead>\n  <tbody>\n    <tr>\n      <th>0</th>\n      <td>2.0</td>\n      <td>3.0</td>\n      <td>668</td>\n      <td>1.000000</td>\n    </tr>\n    <tr>\n      <th>1</th>\n      <td>3.0</td>\n      <td>4.0</td>\n      <td>549</td>\n      <td>0.798986</td>\n    </tr>\n    <tr>\n      <th>2</th>\n      <td>1.0</td>\n      <td>2.0</td>\n      <td>539</td>\n      <td>0.782095</td>\n    </tr>\n    <tr>\n      <th>3</th>\n      <td>4.0</td>\n      <td>5.0</td>\n      <td>444</td>\n      <td>0.621622</td>\n    </tr>\n    <tr>\n      <th>4</th>\n      <td>2.0</td>\n      <td>4.0</td>\n      <td>296</td>\n      <td>0.371622</td>\n    </tr>\n    <tr>\n      <th>5</th>\n      <td>1.0</td>\n      <td>3.0</td>\n      <td>289</td>\n      <td>0.359797</td>\n    </tr>\n    <tr>\n      <th>6</th>\n      <td>3.0</td>\n      <td>5.0</td>\n      <td>147</td>\n      <td>0.119932</td>\n    </tr>\n    <tr>\n      <th>7</th>\n      <td>1.0</td>\n      <td>4.0</td>\n      <td>122</td>\n      <td>0.077703</td>\n    </tr>\n    <tr>\n      <th>8</th>\n      <td>2.0</td>\n      <td>5.0</td>\n      <td>101</td>\n      <td>0.042230</td>\n    </tr>\n    <tr>\n      <th>9</th>\n      <td>1.0</td>\n      <td>5.0</td>\n      <td>76</td>\n      <td>0.000000</td>\n    </tr>\n  </tbody>\n</table>\n</div>"
     },
     "execution_count": 12,
     "metadata": {},
     "output_type": "execute_result"
    }
   ],
   "source": [
    "misclassification_df = get_misclassifications_report(confusion_df, calculate_improvements=False)\n",
    "misclassification_df"
   ],
   "metadata": {
    "collapsed": false,
    "pycharm": {
     "name": "#%%\n"
    }
   }
  },
  {
   "cell_type": "code",
   "execution_count": 4,
   "outputs": [],
   "source": [],
   "metadata": {
    "collapsed": false,
    "pycharm": {
     "name": "#%%\n"
    }
   }
  },
  {
   "cell_type": "code",
   "execution_count": 20,
   "outputs": [
    {
     "data": {
      "text/plain": "     precision    recall        f1  support  reliability\n1.0   0.557300  0.580540  0.568682   2446.0     1.000000\n5.0   0.615423  0.502453  0.553230   2446.0     0.924755\n4.0   0.396526  0.438675  0.416537   2446.0     0.259140\n3.0   0.358504  0.415372  0.384848   2446.0     0.104834\n2.0   0.388811  0.340965  0.363320   2446.0     0.000000",
      "text/html": "<div>\n<style scoped>\n    .dataframe tbody tr th:only-of-type {\n        vertical-align: middle;\n    }\n\n    .dataframe tbody tr th {\n        vertical-align: top;\n    }\n\n    .dataframe thead th {\n        text-align: right;\n    }\n</style>\n<table border=\"1\" class=\"dataframe\">\n  <thead>\n    <tr style=\"text-align: right;\">\n      <th></th>\n      <th>precision</th>\n      <th>recall</th>\n      <th>f1</th>\n      <th>support</th>\n      <th>reliability</th>\n    </tr>\n  </thead>\n  <tbody>\n    <tr>\n      <th>1.0</th>\n      <td>0.557300</td>\n      <td>0.580540</td>\n      <td>0.568682</td>\n      <td>2446.0</td>\n      <td>1.000000</td>\n    </tr>\n    <tr>\n      <th>5.0</th>\n      <td>0.615423</td>\n      <td>0.502453</td>\n      <td>0.553230</td>\n      <td>2446.0</td>\n      <td>0.924755</td>\n    </tr>\n    <tr>\n      <th>4.0</th>\n      <td>0.396526</td>\n      <td>0.438675</td>\n      <td>0.416537</td>\n      <td>2446.0</td>\n      <td>0.259140</td>\n    </tr>\n    <tr>\n      <th>3.0</th>\n      <td>0.358504</td>\n      <td>0.415372</td>\n      <td>0.384848</td>\n      <td>2446.0</td>\n      <td>0.104834</td>\n    </tr>\n    <tr>\n      <th>2.0</th>\n      <td>0.388811</td>\n      <td>0.340965</td>\n      <td>0.363320</td>\n      <td>2446.0</td>\n      <td>0.000000</td>\n    </tr>\n  </tbody>\n</table>\n</div>"
     },
     "execution_count": 20,
     "metadata": {},
     "output_type": "execute_result"
    }
   ],
   "source": [
    "get_label_reliability(report_df)"
   ],
   "metadata": {
    "collapsed": false,
    "pycharm": {
     "name": "#%%\n"
    }
   }
  },
  {
   "cell_type": "code",
   "execution_count": null,
   "outputs": [],
   "source": [],
   "metadata": {
    "collapsed": false,
    "pycharm": {
     "name": "#%%\n"
    }
   }
  },
  {
   "cell_type": "code",
   "execution_count": 5,
   "outputs": [],
   "source": [
    "def get_examples(true_label, predicted_label, df, true_label_column_name, predicted_label_column_name):\n",
    "    return df[(df[true_label_column_name] == true_label) & (df[predicted_label_column_name] == predicted_label)]\n",
    "\n",
    "examples_df = get_examples(2.0, 3.0, debug_df, true_label_column_name='score', predicted_label_column_name='predicted')"
   ],
   "metadata": {
    "collapsed": false,
    "pycharm": {
     "name": "#%%\n"
    }
   }
  },
  {
   "cell_type": "code",
   "execution_count": 6,
   "outputs": [
    {
     "data": {
      "text/plain": "{'text': \"Tase is good, not as bold as I prefer. But I love strong coffee.  But the reason I cannot give 5 stars is THREE times now I have had a brewing problem that I have not had with other brands.  TWO TIMES, the coffee went all over the brewing part and not a straight shot into the cup.  Today, I noticed several grains in my cup, so rathr than waste a cup, I strained it through a filter and enjoyed my cup.  I have bought Tully's before, but nt from this seller. Wonder why the problems so many of us are reporting?\",\n 'summary': 'Wish I had reviews - having problems with this',\n 'score': 2,\n 'text_pp': 'tase good bold prefer love strong coffee reason cannot give stars three times brewing problem brands two times coffee went brewing part straight shot cup today noticed several grains cup rathr waste cup strained filter enjoyed cup bought tully s before nt seller wonder problems many us reporting',\n 'predicted': 3.0}"
     },
     "execution_count": 6,
     "metadata": {},
     "output_type": "execute_result"
    }
   ],
   "source": [
    "examples_df.iloc[0].to_dict()"
   ],
   "metadata": {
    "collapsed": false,
    "pycharm": {
     "name": "#%%\n"
    }
   }
  },
  {
   "cell_type": "code",
   "execution_count": 6,
   "outputs": [],
   "source": [],
   "metadata": {
    "collapsed": false,
    "pycharm": {
     "name": "#%%\n"
    }
   }
  }
 ],
 "metadata": {
  "kernelspec": {
   "display_name": "Python 3",
   "language": "python",
   "name": "python3"
  },
  "language_info": {
   "codemirror_mode": {
    "name": "ipython",
    "version": 2
   },
   "file_extension": ".py",
   "mimetype": "text/x-python",
   "name": "python",
   "nbconvert_exporter": "python",
   "pygments_lexer": "ipython2",
   "version": "2.7.6"
  }
 },
 "nbformat": 4,
 "nbformat_minor": 0
}
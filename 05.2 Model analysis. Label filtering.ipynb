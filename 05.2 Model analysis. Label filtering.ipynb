{
 "cells": [
  {
   "cell_type": "code",
   "execution_count": 1,
   "outputs": [
    {
     "name": "stderr",
     "output_type": "stream",
     "text": [
      "C:\\Users\\Dmitry.Volkov\\Anaconda3\\envs\\support-cases\\lib\\site-packages\\scipy\\__init__.py:146: UserWarning: A NumPy version >=1.16.5 and <1.23.0 is required for this version of SciPy (detected version 1.23.1\n",
      "  warnings.warn(f\"A NumPy version >={np_minversion} and <{np_maxversion}\"\n",
      "100%|██████████| 12230/12230 [00:02<00:00, 5902.65it/s]\n"
     ]
    }
   ],
   "source": [
    "%load_ext autoreload\n",
    "%autoreload 2\n",
    "\n",
    "import pandas as pd\n",
    "from src.utils.text_preprocessing import preprocess_text, tokenize\n",
    "from src.utils.reporting import get_cross_validation_report\n",
    "from src.utils.classification_analysis import *\n",
    "import warnings\n",
    "from tqdm import tqdm\n",
    "tqdm.pandas()\n",
    "\n",
    "df = pd.read_csv('data/reviews_excerpt.csv')\n",
    "with warnings.catch_warnings():\n",
    "    warnings.simplefilter(\"ignore\")\n",
    "\n",
    "    df['text_pp'] = df['text'].progress_apply(preprocess_text)"
   ],
   "metadata": {
    "collapsed": false,
    "pycharm": {
     "name": "#%%\n"
    }
   }
  },
  {
   "cell_type": "code",
   "execution_count": 3,
   "outputs": [],
   "source": [
    "entry_column = 'text_pp'\n",
    "label_column = 'score'\n",
    "\n",
    "frame = df.copy()\n",
    "frame[label_column] = frame[label_column].astype(str)"
   ],
   "metadata": {
    "collapsed": false,
    "pycharm": {
     "name": "#%%\n"
    }
   }
  },
  {
   "cell_type": "code",
   "execution_count": 4,
   "outputs": [],
   "source": [
    "from sklearn.feature_extraction.text import TfidfVectorizer\n",
    "from sklearn.naive_bayes import MultinomialNB\n",
    "from imblearn.pipeline import Pipeline\n",
    "from imblearn.over_sampling import SMOTE\n",
    "\n",
    "def perform_model_cv(dataframe):\n",
    "    vectors, labels = dataframe[entry_column].to_numpy(), dataframe[label_column].to_numpy()\n",
    "\n",
    "    f1, classification_report, confusion_report = get_cross_validation_report(\n",
    "        vectors, labels,\n",
    "        model_factory=lambda: Pipeline([\n",
    "            ('tfidf', TfidfVectorizer(ngram_range=(1, 1), tokenizer=lambda row: tokenize(row, stem=True))),\n",
    "            ('smote', SMOTE(random_state=0)),\n",
    "            ('mnb', MultinomialNB()),\n",
    "        ]),\n",
    "        seed=0\n",
    "    )\n",
    "\n",
    "    return f1, classification_report, confusion_report"
   ],
   "metadata": {
    "collapsed": false,
    "pycharm": {
     "name": "#%%\n"
    }
   }
  },
  {
   "cell_type": "code",
   "execution_count": 6,
   "outputs": [
    {
     "name": "stderr",
     "output_type": "stream",
     "text": [
      "100%|██████████| 5/5 [01:01<00:00, 12.28s/it]\n",
      "100%|██████████| 5/5 [00:00<?, ?it/s]\n",
      "100%|██████████| 5/5 [00:48<00:00,  9.76s/it]\n",
      "100%|██████████| 4/4 [00:00<00:00, 3982.25it/s]\n",
      "100%|██████████| 5/5 [00:37<00:00,  7.45s/it]\n",
      "100%|██████████| 3/3 [00:00<00:00, 5838.94it/s]\n",
      "100%|██████████| 5/5 [00:22<00:00,  4.48s/it]\n",
      "100%|██████████| 2/2 [00:00<?, ?it/s]\n"
     ]
    },
    {
     "data": {
      "text/plain": "            labels  label_count  weighted_f1 worst_label\n3           [1, 5]            2       0.8778           1\n2        [1, 3, 5]            3       0.7012           3\n1     [1, 3, 4, 5]            4       0.5454           4\n0  [1, 2, 3, 4, 5]            5       0.4573           2",
      "text/html": "<div>\n<style scoped>\n    .dataframe tbody tr th:only-of-type {\n        vertical-align: middle;\n    }\n\n    .dataframe tbody tr th {\n        vertical-align: top;\n    }\n\n    .dataframe thead th {\n        text-align: right;\n    }\n</style>\n<table border=\"1\" class=\"dataframe\">\n  <thead>\n    <tr style=\"text-align: right;\">\n      <th></th>\n      <th>labels</th>\n      <th>label_count</th>\n      <th>weighted_f1</th>\n      <th>worst_label</th>\n    </tr>\n  </thead>\n  <tbody>\n    <tr>\n      <th>3</th>\n      <td>[1, 5]</td>\n      <td>2</td>\n      <td>0.8778</td>\n      <td>1</td>\n    </tr>\n    <tr>\n      <th>2</th>\n      <td>[1, 3, 5]</td>\n      <td>3</td>\n      <td>0.7012</td>\n      <td>3</td>\n    </tr>\n    <tr>\n      <th>1</th>\n      <td>[1, 3, 4, 5]</td>\n      <td>4</td>\n      <td>0.5454</td>\n      <td>4</td>\n    </tr>\n    <tr>\n      <th>0</th>\n      <td>[1, 2, 3, 4, 5]</td>\n      <td>5</td>\n      <td>0.4573</td>\n      <td>2</td>\n    </tr>\n  </tbody>\n</table>\n</div>"
     },
     "execution_count": 6,
     "metadata": {},
     "output_type": "execute_result"
    }
   ],
   "source": [
    "path = 'data/reports/label_filtering_iterations/'\n",
    "\n",
    "results = []\n",
    "while len(frame[label_column].unique()) > 1:\n",
    "    current_labels = frame[label_column].unique().tolist()\n",
    "    weighted_f1, report_df, confusion_df = perform_model_cv(frame)\n",
    "\n",
    "    label_errors_df = get_label_errors(confusion_df, report_df)\n",
    "    worst_label = label_errors_df.iloc[0]['label']\n",
    "\n",
    "    results.append({\n",
    "        'labels': current_labels,\n",
    "        'label_count': len(current_labels),\n",
    "        'weighted_f1': weighted_f1,\n",
    "        'worst_label': worst_label,\n",
    "    })\n",
    "    frame = frame[frame[label_column] != worst_label]\n",
    "\n",
    "    save_reports(\n",
    "        f'tf_idf__smote__mnb__label_iteration_{len(results)}',\n",
    "        report_df, confusion_df, weighted_f1,\n",
    "        default_path=path,\n",
    "        additional_frames={\n",
    "            'current_labels': pd.DataFrame({'labels': current_labels}),\n",
    "            'label_errors': label_errors_df,\n",
    "        }\n",
    "    )\n",
    "\n",
    "\n",
    "results_df = pd.DataFrame(results)\n",
    "results_df.to_excel(f'{path}/results.xlsx', index=False)\n",
    "results_df.sort_values(by='weighted_f1', ascending=False)"
   ],
   "metadata": {
    "collapsed": false,
    "pycharm": {
     "name": "#%%\n"
    }
   }
  },
  {
   "cell_type": "code",
   "execution_count": null,
   "outputs": [],
   "source": [],
   "metadata": {
    "collapsed": false,
    "pycharm": {
     "name": "#%%\n"
    }
   }
  }
 ],
 "metadata": {
  "kernelspec": {
   "display_name": "Python 3",
   "language": "python",
   "name": "python3"
  },
  "language_info": {
   "codemirror_mode": {
    "name": "ipython",
    "version": 2
   },
   "file_extension": ".py",
   "mimetype": "text/x-python",
   "name": "python",
   "nbconvert_exporter": "python",
   "pygments_lexer": "ipython2",
   "version": "2.7.6"
  }
 },
 "nbformat": 4,
 "nbformat_minor": 0
}
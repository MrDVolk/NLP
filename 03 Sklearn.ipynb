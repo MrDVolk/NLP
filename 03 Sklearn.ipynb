{
 "cells": [
  {
   "cell_type": "code",
   "execution_count": 1,
   "outputs": [
    {
     "name": "stderr",
     "output_type": "stream",
     "text": [
      "C:\\Users\\Dmitry.Volkov\\Anaconda3\\envs\\support-cases\\lib\\site-packages\\scipy\\__init__.py:146: UserWarning: A NumPy version >=1.16.5 and <1.23.0 is required for this version of SciPy (detected version 1.23.1\n",
      "  warnings.warn(f\"A NumPy version >={np_minversion} and <{np_maxversion}\"\n",
      "100%|██████████| 12230/12230 [00:03<00:00, 3572.72it/s]\n"
     ]
    }
   ],
   "source": [
    "%load_ext autoreload\n",
    "%autoreload 2\n",
    "\n",
    "import pandas as pd\n",
    "from src.utils.text_preprocessing import preprocess_text, tokenize\n",
    "from src.utils.reporting import get_cross_validation_report\n",
    "import warnings\n",
    "from tqdm import tqdm\n",
    "tqdm.pandas()\n",
    "\n",
    "df = pd.read_csv('data/reviews_excerpt.csv')\n",
    "with warnings.catch_warnings():\n",
    "    warnings.simplefilter(\"ignore\")\n",
    "\n",
    "    df['text_pp'] = df['text'].progress_apply(preprocess_text)"
   ],
   "metadata": {
    "collapsed": false,
    "pycharm": {
     "name": "#%%\n"
    }
   }
  },
  {
   "cell_type": "code",
   "execution_count": 6,
   "outputs": [
    {
     "name": "stderr",
     "output_type": "stream",
     "text": [
      "100%|██████████| 5/5 [00:00<00:00, 106.78it/s]"
     ]
    },
    {
     "name": "stdout",
     "output_type": "stream",
     "text": [
      "0.4474\n"
     ]
    },
    {
     "name": "stderr",
     "output_type": "stream",
     "text": [
      "\n"
     ]
    },
    {
     "data": {
      "text/plain": "     precision    recall        f1  support\n1.0   0.531591  0.557236  0.544112   2446.0\n2.0   0.382960  0.363859  0.373166   2446.0\n3.0   0.355881  0.387163  0.370864   2446.0\n4.0   0.390625  0.388389  0.389504   2446.0\n5.0   0.583815  0.536795  0.559318   2446.0",
      "text/html": "<div>\n<style scoped>\n    .dataframe tbody tr th:only-of-type {\n        vertical-align: middle;\n    }\n\n    .dataframe tbody tr th {\n        vertical-align: top;\n    }\n\n    .dataframe thead th {\n        text-align: right;\n    }\n</style>\n<table border=\"1\" class=\"dataframe\">\n  <thead>\n    <tr style=\"text-align: right;\">\n      <th></th>\n      <th>precision</th>\n      <th>recall</th>\n      <th>f1</th>\n      <th>support</th>\n    </tr>\n  </thead>\n  <tbody>\n    <tr>\n      <th>1.0</th>\n      <td>0.531591</td>\n      <td>0.557236</td>\n      <td>0.544112</td>\n      <td>2446.0</td>\n    </tr>\n    <tr>\n      <th>2.0</th>\n      <td>0.382960</td>\n      <td>0.363859</td>\n      <td>0.373166</td>\n      <td>2446.0</td>\n    </tr>\n    <tr>\n      <th>3.0</th>\n      <td>0.355881</td>\n      <td>0.387163</td>\n      <td>0.370864</td>\n      <td>2446.0</td>\n    </tr>\n    <tr>\n      <th>4.0</th>\n      <td>0.390625</td>\n      <td>0.388389</td>\n      <td>0.389504</td>\n      <td>2446.0</td>\n    </tr>\n    <tr>\n      <th>5.0</th>\n      <td>0.583815</td>\n      <td>0.536795</td>\n      <td>0.559318</td>\n      <td>2446.0</td>\n    </tr>\n  </tbody>\n</table>\n</div>"
     },
     "metadata": {},
     "output_type": "display_data"
    },
    {
     "data": {
      "text/plain": "          Pred 1.0  Pred 2.0  Pred 3.0  Pred 4.0  Pred 5.0\nTrue 1.0      1363       612       265       106       100\nTrue 2.0       529       890       614       284       129\nTrue 3.0       319       473       947       526       181\nTrue 4.0       173       221       576       950       526\nTrue 5.0       180       128       259       566      1313",
      "text/html": "<div>\n<style scoped>\n    .dataframe tbody tr th:only-of-type {\n        vertical-align: middle;\n    }\n\n    .dataframe tbody tr th {\n        vertical-align: top;\n    }\n\n    .dataframe thead th {\n        text-align: right;\n    }\n</style>\n<table border=\"1\" class=\"dataframe\">\n  <thead>\n    <tr style=\"text-align: right;\">\n      <th></th>\n      <th>Pred 1.0</th>\n      <th>Pred 2.0</th>\n      <th>Pred 3.0</th>\n      <th>Pred 4.0</th>\n      <th>Pred 5.0</th>\n    </tr>\n  </thead>\n  <tbody>\n    <tr>\n      <th>True 1.0</th>\n      <td>1363</td>\n      <td>612</td>\n      <td>265</td>\n      <td>106</td>\n      <td>100</td>\n    </tr>\n    <tr>\n      <th>True 2.0</th>\n      <td>529</td>\n      <td>890</td>\n      <td>614</td>\n      <td>284</td>\n      <td>129</td>\n    </tr>\n    <tr>\n      <th>True 3.0</th>\n      <td>319</td>\n      <td>473</td>\n      <td>947</td>\n      <td>526</td>\n      <td>181</td>\n    </tr>\n    <tr>\n      <th>True 4.0</th>\n      <td>173</td>\n      <td>221</td>\n      <td>576</td>\n      <td>950</td>\n      <td>526</td>\n    </tr>\n    <tr>\n      <th>True 5.0</th>\n      <td>180</td>\n      <td>128</td>\n      <td>259</td>\n      <td>566</td>\n      <td>1313</td>\n    </tr>\n  </tbody>\n</table>\n</div>"
     },
     "metadata": {},
     "output_type": "display_data"
    }
   ],
   "source": [
    "from sklearn.feature_extraction.text import CountVectorizer\n",
    "from sklearn.naive_bayes import MultinomialNB\n",
    "from IPython.display import display\n",
    "\n",
    "count_vectorizer = CountVectorizer(ngram_range=(1, 1), tokenizer=lambda row: tokenize(row, stem=True))\n",
    "X, y = count_vectorizer.fit_transform(df['text_pp']), df['score'].to_numpy()\n",
    "\n",
    "weighted_f1, report_df, confusion_df = get_cross_validation_report(X, y, model_factory=lambda: MultinomialNB(), seed=0)\n",
    "print(weighted_f1)\n",
    "display(report_df)\n",
    "display(confusion_df)"
   ],
   "metadata": {
    "collapsed": false,
    "pycharm": {
     "name": "#%%\n"
    }
   }
  },
  {
   "cell_type": "code",
   "execution_count": 6,
   "outputs": [
    {
     "name": "stderr",
     "output_type": "stream",
     "text": [
      "100%|██████████| 5/5 [01:19<00:00, 15.83s/it]"
     ]
    },
    {
     "name": "stdout",
     "output_type": "stream",
     "text": [
      "0.4573\n"
     ]
    },
    {
     "name": "stderr",
     "output_type": "stream",
     "text": [
      "\n"
     ]
    },
    {
     "data": {
      "text/plain": "     precision    recall        f1  support\n1.0   0.557300  0.580540  0.568682   2446.0\n2.0   0.388811  0.340965  0.363320   2446.0\n3.0   0.358504  0.415372  0.384848   2446.0\n4.0   0.396526  0.438675  0.416537   2446.0\n5.0   0.615423  0.502453  0.553230   2446.0",
      "text/html": "<div>\n<style scoped>\n    .dataframe tbody tr th:only-of-type {\n        vertical-align: middle;\n    }\n\n    .dataframe tbody tr th {\n        vertical-align: top;\n    }\n\n    .dataframe thead th {\n        text-align: right;\n    }\n</style>\n<table border=\"1\" class=\"dataframe\">\n  <thead>\n    <tr style=\"text-align: right;\">\n      <th></th>\n      <th>precision</th>\n      <th>recall</th>\n      <th>f1</th>\n      <th>support</th>\n    </tr>\n  </thead>\n  <tbody>\n    <tr>\n      <th>1.0</th>\n      <td>0.557300</td>\n      <td>0.580540</td>\n      <td>0.568682</td>\n      <td>2446.0</td>\n    </tr>\n    <tr>\n      <th>2.0</th>\n      <td>0.388811</td>\n      <td>0.340965</td>\n      <td>0.363320</td>\n      <td>2446.0</td>\n    </tr>\n    <tr>\n      <th>3.0</th>\n      <td>0.358504</td>\n      <td>0.415372</td>\n      <td>0.384848</td>\n      <td>2446.0</td>\n    </tr>\n    <tr>\n      <th>4.0</th>\n      <td>0.396526</td>\n      <td>0.438675</td>\n      <td>0.416537</td>\n      <td>2446.0</td>\n    </tr>\n    <tr>\n      <th>5.0</th>\n      <td>0.615423</td>\n      <td>0.502453</td>\n      <td>0.553230</td>\n      <td>2446.0</td>\n    </tr>\n  </tbody>\n</table>\n</div>"
     },
     "metadata": {},
     "output_type": "display_data"
    },
    {
     "data": {
      "text/plain": "          Pred 1.0  Pred 2.0  Pred 3.0  Pred 4.0  Pred 5.0\nTrue 1.0      1420       539       289       122        76\nTrue 2.0       547       834       668       296       101\nTrue 3.0       288       446      1016       549       147\nTrue 4.0       140       193       596      1073       444\nTrue 5.0       153       133       265       666      1229",
      "text/html": "<div>\n<style scoped>\n    .dataframe tbody tr th:only-of-type {\n        vertical-align: middle;\n    }\n\n    .dataframe tbody tr th {\n        vertical-align: top;\n    }\n\n    .dataframe thead th {\n        text-align: right;\n    }\n</style>\n<table border=\"1\" class=\"dataframe\">\n  <thead>\n    <tr style=\"text-align: right;\">\n      <th></th>\n      <th>Pred 1.0</th>\n      <th>Pred 2.0</th>\n      <th>Pred 3.0</th>\n      <th>Pred 4.0</th>\n      <th>Pred 5.0</th>\n    </tr>\n  </thead>\n  <tbody>\n    <tr>\n      <th>True 1.0</th>\n      <td>1420</td>\n      <td>539</td>\n      <td>289</td>\n      <td>122</td>\n      <td>76</td>\n    </tr>\n    <tr>\n      <th>True 2.0</th>\n      <td>547</td>\n      <td>834</td>\n      <td>668</td>\n      <td>296</td>\n      <td>101</td>\n    </tr>\n    <tr>\n      <th>True 3.0</th>\n      <td>288</td>\n      <td>446</td>\n      <td>1016</td>\n      <td>549</td>\n      <td>147</td>\n    </tr>\n    <tr>\n      <th>True 4.0</th>\n      <td>140</td>\n      <td>193</td>\n      <td>596</td>\n      <td>1073</td>\n      <td>444</td>\n    </tr>\n    <tr>\n      <th>True 5.0</th>\n      <td>153</td>\n      <td>133</td>\n      <td>265</td>\n      <td>666</td>\n      <td>1229</td>\n    </tr>\n  </tbody>\n</table>\n</div>"
     },
     "metadata": {},
     "output_type": "display_data"
    }
   ],
   "source": [
    "from sklearn.feature_extraction.text import TfidfVectorizer\n",
    "from sklearn.naive_bayes import MultinomialNB\n",
    "from imblearn.pipeline import Pipeline\n",
    "from imblearn.over_sampling import SMOTE\n",
    "from IPython.display import display\n",
    "\n",
    "X, y = df['text_pp'].to_numpy(), df['score'].to_numpy()\n",
    "\n",
    "weighted_f1, report_df, confusion_df = get_cross_validation_report(\n",
    "    X, y,\n",
    "    model_factory=lambda: Pipeline([\n",
    "        ('tfidf', TfidfVectorizer(ngram_range=(1, 1), tokenizer=lambda row: tokenize(row, stem=True))),\n",
    "        ('smote', SMOTE(random_state=0)),\n",
    "        ('mnb', MultinomialNB()),\n",
    "    ]),\n",
    "    seed=0\n",
    ")\n",
    "print(weighted_f1)\n",
    "display(report_df)\n",
    "display(confusion_df)"
   ],
   "metadata": {
    "collapsed": false,
    "pycharm": {
     "name": "#%%\n"
    }
   }
  },
  {
   "cell_type": "code",
   "execution_count": 14,
   "outputs": [
    {
     "name": "stderr",
     "output_type": "stream",
     "text": [
      "100%|██████████| 5/5 [06:11<00:00, 74.24s/it]"
     ]
    },
    {
     "name": "stdout",
     "output_type": "stream",
     "text": [
      "0.4993\n"
     ]
    },
    {
     "name": "stderr",
     "output_type": "stream",
     "text": [
      "\n"
     ]
    },
    {
     "data": {
      "text/plain": "     precision    recall        f1  support\n1.0   0.591262  0.652903  0.620556   2446.0\n2.0   0.426496  0.408013  0.417050   2446.0\n3.0   0.416024  0.396975  0.406276   2446.0\n4.0   0.450698  0.409240  0.428969   2446.0\n5.0   0.601367  0.647588  0.623622   2446.0",
      "text/html": "<div>\n<style scoped>\n    .dataframe tbody tr th:only-of-type {\n        vertical-align: middle;\n    }\n\n    .dataframe tbody tr th {\n        vertical-align: top;\n    }\n\n    .dataframe thead th {\n        text-align: right;\n    }\n</style>\n<table border=\"1\" class=\"dataframe\">\n  <thead>\n    <tr style=\"text-align: right;\">\n      <th></th>\n      <th>precision</th>\n      <th>recall</th>\n      <th>f1</th>\n      <th>support</th>\n    </tr>\n  </thead>\n  <tbody>\n    <tr>\n      <th>1.0</th>\n      <td>0.591262</td>\n      <td>0.652903</td>\n      <td>0.620556</td>\n      <td>2446.0</td>\n    </tr>\n    <tr>\n      <th>2.0</th>\n      <td>0.426496</td>\n      <td>0.408013</td>\n      <td>0.417050</td>\n      <td>2446.0</td>\n    </tr>\n    <tr>\n      <th>3.0</th>\n      <td>0.416024</td>\n      <td>0.396975</td>\n      <td>0.406276</td>\n      <td>2446.0</td>\n    </tr>\n    <tr>\n      <th>4.0</th>\n      <td>0.450698</td>\n      <td>0.409240</td>\n      <td>0.428969</td>\n      <td>2446.0</td>\n    </tr>\n    <tr>\n      <th>5.0</th>\n      <td>0.601367</td>\n      <td>0.647588</td>\n      <td>0.623622</td>\n      <td>2446.0</td>\n    </tr>\n  </tbody>\n</table>\n</div>"
     },
     "metadata": {},
     "output_type": "display_data"
    },
    {
     "data": {
      "text/plain": "          Pred 1.0  Pred 2.0  Pred 3.0  Pred 4.0  Pred 5.0\nTrue 1.0      1597       472       177        76       124\nTrue 2.0       569       998       528       220       131\nTrue 3.0       275       512       971       489       199\nTrue 4.0       135       220       494      1001       596\nTrue 5.0       125       138       164       435      1584",
      "text/html": "<div>\n<style scoped>\n    .dataframe tbody tr th:only-of-type {\n        vertical-align: middle;\n    }\n\n    .dataframe tbody tr th {\n        vertical-align: top;\n    }\n\n    .dataframe thead th {\n        text-align: right;\n    }\n</style>\n<table border=\"1\" class=\"dataframe\">\n  <thead>\n    <tr style=\"text-align: right;\">\n      <th></th>\n      <th>Pred 1.0</th>\n      <th>Pred 2.0</th>\n      <th>Pred 3.0</th>\n      <th>Pred 4.0</th>\n      <th>Pred 5.0</th>\n    </tr>\n  </thead>\n  <tbody>\n    <tr>\n      <th>True 1.0</th>\n      <td>1597</td>\n      <td>472</td>\n      <td>177</td>\n      <td>76</td>\n      <td>124</td>\n    </tr>\n    <tr>\n      <th>True 2.0</th>\n      <td>569</td>\n      <td>998</td>\n      <td>528</td>\n      <td>220</td>\n      <td>131</td>\n    </tr>\n    <tr>\n      <th>True 3.0</th>\n      <td>275</td>\n      <td>512</td>\n      <td>971</td>\n      <td>489</td>\n      <td>199</td>\n    </tr>\n    <tr>\n      <th>True 4.0</th>\n      <td>135</td>\n      <td>220</td>\n      <td>494</td>\n      <td>1001</td>\n      <td>596</td>\n    </tr>\n    <tr>\n      <th>True 5.0</th>\n      <td>125</td>\n      <td>138</td>\n      <td>164</td>\n      <td>435</td>\n      <td>1584</td>\n    </tr>\n  </tbody>\n</table>\n</div>"
     },
     "metadata": {},
     "output_type": "display_data"
    }
   ],
   "source": [
    "from imblearn.pipeline import Pipeline\n",
    "from imblearn.over_sampling import SMOTE\n",
    "from sklearn.svm import SVC\n",
    "\n",
    "X, y = df['text_pp'], df['score'].to_numpy()\n",
    "\n",
    "weighted_f1, report_df, confusion_df = get_cross_validation_report(\n",
    "    X, y,\n",
    "    model_factory=lambda: Pipeline([\n",
    "        ('tfidf', TfidfVectorizer(ngram_range=(1, 1), tokenizer=lambda row: tokenize(row, stem=True))),\n",
    "        ('smote', SMOTE(random_state=0)),\n",
    "        ('svc', SVC(random_state=0)),\n",
    "    ]),\n",
    "    seed=0\n",
    ")\n",
    "print(weighted_f1)\n",
    "display(report_df)\n",
    "display(confusion_df)"
   ],
   "metadata": {
    "collapsed": false,
    "pycharm": {
     "name": "#%%\n"
    }
   }
  },
  {
   "cell_type": "code",
   "execution_count": 8,
   "outputs": [
    {
     "name": "stderr",
     "output_type": "stream",
     "text": [
      "100%|██████████| 5/5 [07:41<00:00, 92.34s/it]"
     ]
    },
    {
     "name": "stdout",
     "output_type": "stream",
     "text": [
      "0.4925\n"
     ]
    },
    {
     "name": "stderr",
     "output_type": "stream",
     "text": [
      "\n"
     ]
    },
    {
     "data": {
      "text/plain": "     precision    recall        f1  support\n1.0   0.540341  0.687244  0.605003   2446.0\n2.0   0.423248  0.390025  0.405957   2446.0\n3.0   0.415545  0.391251  0.403032   2446.0\n4.0   0.457556  0.401063  0.427451   2446.0\n5.0   0.624483  0.617334  0.620888   2446.0",
      "text/html": "<div>\n<style scoped>\n    .dataframe tbody tr th:only-of-type {\n        vertical-align: middle;\n    }\n\n    .dataframe tbody tr th {\n        vertical-align: top;\n    }\n\n    .dataframe thead th {\n        text-align: right;\n    }\n</style>\n<table border=\"1\" class=\"dataframe\">\n  <thead>\n    <tr style=\"text-align: right;\">\n      <th></th>\n      <th>precision</th>\n      <th>recall</th>\n      <th>f1</th>\n      <th>support</th>\n    </tr>\n  </thead>\n  <tbody>\n    <tr>\n      <th>1.0</th>\n      <td>0.540341</td>\n      <td>0.687244</td>\n      <td>0.605003</td>\n      <td>2446.0</td>\n    </tr>\n    <tr>\n      <th>2.0</th>\n      <td>0.423248</td>\n      <td>0.390025</td>\n      <td>0.405957</td>\n      <td>2446.0</td>\n    </tr>\n    <tr>\n      <th>3.0</th>\n      <td>0.415545</td>\n      <td>0.391251</td>\n      <td>0.403032</td>\n      <td>2446.0</td>\n    </tr>\n    <tr>\n      <th>4.0</th>\n      <td>0.457556</td>\n      <td>0.401063</td>\n      <td>0.427451</td>\n      <td>2446.0</td>\n    </tr>\n    <tr>\n      <th>5.0</th>\n      <td>0.624483</td>\n      <td>0.617334</td>\n      <td>0.620888</td>\n      <td>2446.0</td>\n    </tr>\n  </tbody>\n</table>\n</div>"
     },
     "metadata": {},
     "output_type": "display_data"
    },
    {
     "data": {
      "text/plain": "          Pred 1.0  Pred 2.0  Pred 3.0  Pred 4.0  Pred 5.0\nTrue 1.0      1681       426       171        72        96\nTrue 2.0       672       954       501       202       117\nTrue 3.0       384       496       957       453       156\nTrue 4.0       197       235       494       981       539\nTrue 5.0       177       143       180       436      1510",
      "text/html": "<div>\n<style scoped>\n    .dataframe tbody tr th:only-of-type {\n        vertical-align: middle;\n    }\n\n    .dataframe tbody tr th {\n        vertical-align: top;\n    }\n\n    .dataframe thead th {\n        text-align: right;\n    }\n</style>\n<table border=\"1\" class=\"dataframe\">\n  <thead>\n    <tr style=\"text-align: right;\">\n      <th></th>\n      <th>Pred 1.0</th>\n      <th>Pred 2.0</th>\n      <th>Pred 3.0</th>\n      <th>Pred 4.0</th>\n      <th>Pred 5.0</th>\n    </tr>\n  </thead>\n  <tbody>\n    <tr>\n      <th>True 1.0</th>\n      <td>1681</td>\n      <td>426</td>\n      <td>171</td>\n      <td>72</td>\n      <td>96</td>\n    </tr>\n    <tr>\n      <th>True 2.0</th>\n      <td>672</td>\n      <td>954</td>\n      <td>501</td>\n      <td>202</td>\n      <td>117</td>\n    </tr>\n    <tr>\n      <th>True 3.0</th>\n      <td>384</td>\n      <td>496</td>\n      <td>957</td>\n      <td>453</td>\n      <td>156</td>\n    </tr>\n    <tr>\n      <th>True 4.0</th>\n      <td>197</td>\n      <td>235</td>\n      <td>494</td>\n      <td>981</td>\n      <td>539</td>\n    </tr>\n    <tr>\n      <th>True 5.0</th>\n      <td>177</td>\n      <td>143</td>\n      <td>180</td>\n      <td>436</td>\n      <td>1510</td>\n    </tr>\n  </tbody>\n</table>\n</div>"
     },
     "metadata": {},
     "output_type": "display_data"
    }
   ],
   "source": [
    "from sklearn.feature_extraction.text import TfidfVectorizer\n",
    "from sklearn.naive_bayes import MultinomialNB\n",
    "from imblearn.pipeline import Pipeline\n",
    "from imblearn.over_sampling import SMOTE\n",
    "from sklearn.svm import SVC\n",
    "from sklearn.ensemble import VotingClassifier, RandomForestClassifier\n",
    "from IPython.display import display\n",
    "\n",
    "X, y = df['text_pp'].to_numpy(), df['score'].to_numpy()\n",
    "\n",
    "weighted_f1, report_df, confusion_df = get_cross_validation_report(\n",
    "    X, y,\n",
    "    model_factory=lambda: Pipeline([\n",
    "        ('tfidf', TfidfVectorizer(ngram_range=(1, 1), tokenizer=lambda row: tokenize(row, stem=True))),\n",
    "        ('smote', SMOTE(random_state=0)),\n",
    "        ('vote', VotingClassifier(\n",
    "                estimators=[\n",
    "                    ('mnb', MultinomialNB()),\n",
    "                    ('svc', SVC(random_state=0)),\n",
    "                    ('rfc', RandomForestClassifier(random_state=0))\n",
    "                ],\n",
    "                voting='hard'\n",
    "            )\n",
    "        ),\n",
    "    ]),\n",
    "    seed=0\n",
    ")\n",
    "print(weighted_f1)\n",
    "display(report_df)\n",
    "display(confusion_df)"
   ],
   "metadata": {
    "collapsed": false,
    "pycharm": {
     "name": "#%%\n"
    }
   }
  },
  {
   "cell_type": "markdown",
   "source": [
    "# Best model so far - pipeline with TF-IDF, SMOTE, SVC"
   ],
   "metadata": {
    "collapsed": false,
    "pycharm": {
     "name": "#%% md\n"
    }
   }
  },
  {
   "cell_type": "code",
   "execution_count": null,
   "outputs": [
    {
     "name": "stdout",
     "output_type": "stream",
     "text": [
      "n_iterations: 4\n",
      "n_required_iterations: 4\n",
      "n_possible_iterations: 4\n",
      "min_resources_: 452\n",
      "max_resources_: 12230\n",
      "aggressive_elimination: False\n",
      "factor: 3\n",
      "----------\n",
      "iter: 0\n",
      "n_candidates: 49\n",
      "n_resources: 452\n",
      "Fitting 5 folds for each of 49 candidates, totalling 245 fits\n",
      "----------\n",
      "iter: 1\n",
      "n_candidates: 17\n",
      "n_resources: 1356\n",
      "Fitting 5 folds for each of 17 candidates, totalling 85 fits\n",
      "----------\n",
      "iter: 2\n",
      "n_candidates: 6\n",
      "n_resources: 4068\n",
      "Fitting 5 folds for each of 6 candidates, totalling 30 fits\n"
     ]
    }
   ],
   "source": [
    "from sklearn.experimental import enable_halving_search_cv  # noqa\n",
    "from sklearn.model_selection import HalvingGridSearchCV\n",
    "\n",
    "import numpy as np\n",
    "\n",
    "model = Pipeline([\n",
    "    ('tfidf', TfidfVectorizer(ngram_range=(1, 1), tokenizer=lambda row: tokenize(row, stem=True))),\n",
    "    ('smote', SMOTE(random_state=0)),\n",
    "    ('svc', SVC(random_state=0))\n",
    "])\n",
    "\n",
    "params = {\n",
    "    'svc__C': list(np.logspace(-3, 0, 4)) + [2, 5, 10],\n",
    "    'svc__gamma': [0.001, 0.01, 0.1, 1, 2, 3, 5]\n",
    "}\n",
    "X, y = df['text_pp'], df['score'].to_numpy()\n",
    "\n",
    "halving_gscv = HalvingGridSearchCV(\n",
    "    estimator=model,\n",
    "    param_grid=params,\n",
    "    scoring='f1_weighted',\n",
    "    verbose=1\n",
    ")\n",
    "halving_gscv.fit(X, y)"
   ],
   "metadata": {
    "collapsed": false,
    "pycharm": {
     "name": "#%%\n",
     "is_executing": true
    }
   }
  },
  {
   "cell_type": "code",
   "execution_count": null,
   "outputs": [],
   "source": [],
   "metadata": {
    "collapsed": false,
    "pycharm": {
     "name": "#%%\n"
    }
   }
  }
 ],
 "metadata": {
  "kernelspec": {
   "display_name": "Python 3",
   "language": "python",
   "name": "python3"
  },
  "language_info": {
   "codemirror_mode": {
    "name": "ipython",
    "version": 2
   },
   "file_extension": ".py",
   "mimetype": "text/x-python",
   "name": "python",
   "nbconvert_exporter": "python",
   "pygments_lexer": "ipython2",
   "version": "2.7.6"
  }
 },
 "nbformat": 4,
 "nbformat_minor": 0
}
{
 "cells": [
  {
   "cell_type": "code",
   "execution_count": 1,
   "outputs": [
    {
     "name": "stderr",
     "output_type": "stream",
     "text": [
      "C:\\Users\\Dmitry.Volkov\\Anaconda3\\envs\\support-cases\\lib\\site-packages\\scipy\\__init__.py:146: UserWarning: A NumPy version >=1.16.5 and <1.23.0 is required for this version of SciPy (detected version 1.23.1\n",
      "  warnings.warn(f\"A NumPy version >={np_minversion} and <{np_maxversion}\"\n",
      "100%|██████████| 12230/12230 [00:02<00:00, 6079.67it/s]\n",
      "100%|██████████| 12230/12230 [00:13<00:00, 920.17it/s] \n"
     ]
    }
   ],
   "source": [
    "%load_ext autoreload\n",
    "%autoreload 2\n",
    "\n",
    "import pandas as pd\n",
    "from src.utils.text_preprocessing import preprocess_text, tokenize\n",
    "from src.utils.reporting import get_cross_validation_report\n",
    "import warnings\n",
    "from tqdm import tqdm\n",
    "tqdm.pandas()\n",
    "\n",
    "df = pd.read_csv('data/reviews_excerpt.csv')\n",
    "with warnings.catch_warnings():\n",
    "    warnings.simplefilter(\"ignore\")\n",
    "\n",
    "    df['text_pp'] = df['text'].progress_apply(preprocess_text)\n",
    "    df['text_pp'] = df['text_pp'].progress_apply(lambda row: tokenize(row, stem=True))"
   ],
   "metadata": {
    "collapsed": false,
    "pycharm": {
     "name": "#%%\n"
    }
   }
  },
  {
   "cell_type": "code",
   "execution_count": 21,
   "outputs": [
    {
     "name": "stderr",
     "output_type": "stream",
     "text": [
      "100%|██████████| 5/5 [00:03<00:00,  1.54it/s]"
     ]
    },
    {
     "name": "stdout",
     "output_type": "stream",
     "text": [
      "0.4463\n"
     ]
    },
    {
     "name": "stderr",
     "output_type": "stream",
     "text": [
      "\n"
     ]
    },
    {
     "data": {
      "text/plain": "     precision    recall        f1  support\n1.0   0.518868  0.584628  0.549789   2446.0\n2.0   0.387558  0.343827  0.364385   2446.0\n3.0   0.362069  0.377760  0.369748   2446.0\n4.0   0.390800  0.385527  0.388146   2446.0\n5.0   0.572467  0.547424  0.559666   2446.0",
      "text/html": "<div>\n<style scoped>\n    .dataframe tbody tr th:only-of-type {\n        vertical-align: middle;\n    }\n\n    .dataframe tbody tr th {\n        vertical-align: top;\n    }\n\n    .dataframe thead th {\n        text-align: right;\n    }\n</style>\n<table border=\"1\" class=\"dataframe\">\n  <thead>\n    <tr style=\"text-align: right;\">\n      <th></th>\n      <th>precision</th>\n      <th>recall</th>\n      <th>f1</th>\n      <th>support</th>\n    </tr>\n  </thead>\n  <tbody>\n    <tr>\n      <th>1.0</th>\n      <td>0.518868</td>\n      <td>0.584628</td>\n      <td>0.549789</td>\n      <td>2446.0</td>\n    </tr>\n    <tr>\n      <th>2.0</th>\n      <td>0.387558</td>\n      <td>0.343827</td>\n      <td>0.364385</td>\n      <td>2446.0</td>\n    </tr>\n    <tr>\n      <th>3.0</th>\n      <td>0.362069</td>\n      <td>0.377760</td>\n      <td>0.369748</td>\n      <td>2446.0</td>\n    </tr>\n    <tr>\n      <th>4.0</th>\n      <td>0.390800</td>\n      <td>0.385527</td>\n      <td>0.388146</td>\n      <td>2446.0</td>\n    </tr>\n    <tr>\n      <th>5.0</th>\n      <td>0.572467</td>\n      <td>0.547424</td>\n      <td>0.559666</td>\n      <td>2446.0</td>\n    </tr>\n  </tbody>\n</table>\n</div>"
     },
     "metadata": {},
     "output_type": "display_data"
    },
    {
     "data": {
      "text/plain": "          Pred 1.0  Pred 2.0  Pred 3.0  Pred 4.0  Pred 5.0\nTrue 1.0      1430       550       237       119       110\nTrue 2.0       583       841       589       293       140\nTrue 3.0       351       456       924       518       197\nTrue 4.0       194       206       550       943       553\nTrue 5.0       198       117       252       540      1339",
      "text/html": "<div>\n<style scoped>\n    .dataframe tbody tr th:only-of-type {\n        vertical-align: middle;\n    }\n\n    .dataframe tbody tr th {\n        vertical-align: top;\n    }\n\n    .dataframe thead th {\n        text-align: right;\n    }\n</style>\n<table border=\"1\" class=\"dataframe\">\n  <thead>\n    <tr style=\"text-align: right;\">\n      <th></th>\n      <th>Pred 1.0</th>\n      <th>Pred 2.0</th>\n      <th>Pred 3.0</th>\n      <th>Pred 4.0</th>\n      <th>Pred 5.0</th>\n    </tr>\n  </thead>\n  <tbody>\n    <tr>\n      <th>True 1.0</th>\n      <td>1430</td>\n      <td>550</td>\n      <td>237</td>\n      <td>119</td>\n      <td>110</td>\n    </tr>\n    <tr>\n      <th>True 2.0</th>\n      <td>583</td>\n      <td>841</td>\n      <td>589</td>\n      <td>293</td>\n      <td>140</td>\n    </tr>\n    <tr>\n      <th>True 3.0</th>\n      <td>351</td>\n      <td>456</td>\n      <td>924</td>\n      <td>518</td>\n      <td>197</td>\n    </tr>\n    <tr>\n      <th>True 4.0</th>\n      <td>194</td>\n      <td>206</td>\n      <td>550</td>\n      <td>943</td>\n      <td>553</td>\n    </tr>\n    <tr>\n      <th>True 5.0</th>\n      <td>198</td>\n      <td>117</td>\n      <td>252</td>\n      <td>540</td>\n      <td>1339</td>\n    </tr>\n  </tbody>\n</table>\n</div>"
     },
     "metadata": {},
     "output_type": "display_data"
    }
   ],
   "source": [
    "from src.naive_bayes_classification import *\n",
    "from IPython.display import display\n",
    "\n",
    "X, y = df['text_pp'].to_numpy(), df['score'].to_numpy()\n",
    "weighted_f1, report_df, confusion_df = get_cross_validation_report(X, y, model_factory=lambda: NaiveBayesClassifier(), seed=0)\n",
    "print(weighted_f1)\n",
    "display(report_df)\n",
    "display(confusion_df)"
   ],
   "metadata": {
    "collapsed": false,
    "pycharm": {
     "name": "#%%\n"
    }
   }
  },
  {
   "cell_type": "code",
   "execution_count": 27,
   "outputs": [
    {
     "data": {
      "text/plain": "[{'word': 'garbag',\n  'target_appearances': 92,\n  'other_appearances': 19,\n  'ratio': 4.65,\n  'loglikelihood': 2.872836958481738},\n {'word': 'percent',\n  'target_appearances': 43,\n  'other_appearances': 13,\n  'ratio': 3.1429,\n  'loglikelihood': 2.4811020431854756},\n {'word': 'danger',\n  'target_appearances': 39,\n  'other_appearances': 19,\n  'ratio': 2.0,\n  'loglikelihood': 2.0291169194424183},\n {'word': 'trash',\n  'target_appearances': 65,\n  'other_appearances': 33,\n  'ratio': 1.9412,\n  'loglikelihood': 1.999263956292737},\n {'word': 'crap',\n  'target_appearances': 32,\n  'other_appearances': 16,\n  'ratio': 1.9412,\n  'loglikelihood': 1.999263956292737},\n {'word': 'rancid',\n  'target_appearances': 42,\n  'other_appearances': 22,\n  'ratio': 1.8696,\n  'loglikelihood': 1.9616756386468857},\n {'word': 'disgust',\n  'target_appearances': 66,\n  'other_appearances': 35,\n  'ratio': 1.8611,\n  'loglikelihood': 1.957143419817329},\n {'word': 'threw',\n  'target_appearances': 92,\n  'other_appearances': 49,\n  'ratio': 1.86,\n  'loglikelihood': 1.9565462266075826},\n {'word': 'stupid',\n  'target_appearances': 26,\n  'other_appearances': 14,\n  'ratio': 1.8,\n  'loglikelihood': 1.923756403784592},\n {'word': 'whatsoev',\n  'target_appearances': 26,\n  'other_appearances': 14,\n  'ratio': 1.8,\n  'loglikelihood': 1.923756403784592},\n {'word': 'hill',\n  'target_appearances': 22,\n  'other_appearances': 12,\n  'ratio': 1.7692,\n  'loglikelihood': 1.9065145973500859},\n {'word': 'bpa',\n  'target_appearances': 39,\n  'other_appearances': 22,\n  'ratio': 1.7391,\n  'loglikelihood': 1.8893549770672595},\n {'word': 'scienc',\n  'target_appearances': 83,\n  'other_appearances': 48,\n  'ratio': 1.7143,\n  'loglikelihood': 1.8749662396151598},\n {'word': 'respond',\n  'target_appearances': 23,\n  'other_appearances': 13,\n  'ratio': 1.7143,\n  'loglikelihood': 1.8749662396151598},\n {'word': 'refund',\n  'target_appearances': 91,\n  'other_appearances': 54,\n  'ratio': 1.6727,\n  'loglikelihood': 1.8504251306990422},\n {'word': 'licketi',\n  'target_appearances': 16,\n  'other_appearances': 10,\n  'ratio': 1.5455,\n  'loglikelihood': 1.7712878101403184},\n {'word': 'yuck',\n  'target_appearances': 38,\n  'other_appearances': 25,\n  'ratio': 1.5,\n  'loglikelihood': 1.7414348469906373},\n {'word': 'mold',\n  'target_appearances': 33,\n  'other_appearances': 22,\n  'ratio': 1.4783,\n  'loglikelihood': 1.7268360475694846},\n {'word': 'lesson',\n  'target_appearances': 15,\n  'other_appearances': 10,\n  'ratio': 1.4545,\n  'loglikelihood': 1.7106631883238836},\n {'word': 'zico',\n  'target_appearances': 29,\n  'other_appearances': 20,\n  'ratio': 1.4286,\n  'loglikelihood': 1.6926446828212052},\n {'word': 'worst',\n  'target_appearances': 112,\n  'other_appearances': 82,\n  'ratio': 1.3614,\n  'loglikelihood': 1.6445169497982157},\n {'word': 'moth',\n  'target_appearances': 18,\n  'other_appearances': 13,\n  'ratio': 1.3571,\n  'loglikelihood': 1.6413513884336548},\n {'word': 'phone',\n  'target_appearances': 15,\n  'other_appearances': 11,\n  'ratio': 1.3333,\n  'loglikelihood': 1.6236518113342537},\n {'word': 'sodastream',\n  'target_appearances': 23,\n  'other_appearances': 17,\n  'ratio': 1.3333,\n  'loglikelihood': 1.6236518113342537},\n {'word': 'indoor',\n  'target_appearances': 36,\n  'other_appearances': 27,\n  'ratio': 1.3214,\n  'loglikelihood': 1.6146831413514933},\n {'word': 'horribl',\n  'target_appearances': 119,\n  'other_appearances': 90,\n  'ratio': 1.3187,\n  'loglikelihood': 1.6126019751476688},\n {'word': 'cri',\n  'target_appearances': 21,\n  'other_appearances': 16,\n  'ratio': 1.2941,\n  'loglikelihood': 1.5937988481845726},\n {'word': 'twenti',\n  'target_appearances': 17,\n  'other_appearances': 13,\n  'ratio': 1.2857,\n  'loglikelihood': 1.587284167163379},\n {'word': 'halo',\n  'target_appearances': 13,\n  'other_appearances': 10,\n  'ratio': 1.2727,\n  'loglikelihood': 1.577131795699361},\n {'word': 'return',\n  'target_appearances': 202,\n  'other_appearances': 163,\n  'ratio': 1.2378,\n  'loglikelihood': 1.5493092901000618},\n {'word': 'forth',\n  'target_appearances': 15,\n  'other_appearances': 12,\n  'ratio': 1.2308,\n  'loglikelihood': 1.5436091036607174},\n {'word': 'twelv',\n  'target_appearances': 16,\n  'other_appearances': 13,\n  'ratio': 1.2143,\n  'loglikelihood': 1.5301257533234303},\n {'word': 'email',\n  'target_appearances': 56,\n  'other_appearances': 46,\n  'ratio': 1.2128,\n  'loglikelihood': 1.5288734050069646},\n {'word': 'poison',\n  'target_appearances': 26,\n  'other_appearances': 22,\n  'ratio': 1.1739,\n  'loglikelihood': 1.4963123889576524},\n {'word': 'freak',\n  'target_appearances': 13,\n  'other_appearances': 11,\n  'ratio': 1.1667,\n  'loglikelihood': 1.4901204187097312},\n {'word': 'wast',\n  'target_appearances': 188,\n  'other_appearances': 162,\n  'ratio': 1.1595,\n  'loglikelihood': 1.483966553135353},\n {'word': 'kidney',\n  'target_appearances': 21,\n  'other_appearances': 18,\n  'ratio': 1.1579,\n  'loglikelihood': 1.4825732130743483},\n {'word': 'aw',\n  'target_appearances': 115,\n  'other_appearances': 100,\n  'ratio': 1.1485,\n  'loglikelihood': 1.474439413147578},\n {'word': 'tassimo',\n  'target_appearances': 15,\n  'other_appearances': 13,\n  'ratio': 1.1429,\n  'loglikelihood': 1.4695011315069955},\n {'word': 'nasti',\n  'target_appearances': 65,\n  'other_appearances': 57,\n  'ratio': 1.1379,\n  'loglikelihood': 1.465181470362479},\n {'word': 'sawdust',\n  'target_appearances': 16,\n  'other_appearances': 14,\n  'ratio': 1.1333,\n  'loglikelihood': 1.4611328818364788},\n {'word': 'fda',\n  'target_appearances': 17,\n  'other_appearances': 15,\n  'ratio': 1.125,\n  'loglikelihood': 1.453752774538856},\n {'word': 'gerber',\n  'target_appearances': 17,\n  'other_appearances': 15,\n  'ratio': 1.125,\n  'loglikelihood': 1.453752774538856},\n {'word': 'donat',\n  'target_appearances': 18,\n  'other_appearances': 16,\n  'ratio': 1.1176,\n  'loglikelihood': 1.4471953739926973},\n {'word': 'toxic',\n  'target_appearances': 19,\n  'other_appearances': 17,\n  'ratio': 1.1111,\n  'loglikelihood': 1.4413302545402993},\n {'word': 'china',\n  'target_appearances': 100,\n  'other_appearances': 91,\n  'ratio': 1.0978,\n  'loglikelihood': 1.4293016786746922},\n {'word': 'april',\n  'target_appearances': 12,\n  'other_appearances': 11,\n  'ratio': 1.0833,\n  'loglikelihood': 1.4160124465560093},\n {'word': 'nine',\n  'target_appearances': 15,\n  'other_appearances': 14,\n  'ratio': 1.0667,\n  'loglikelihood': 1.400508260020044},\n {'word': 'gross',\n  'target_appearances': 61,\n  'other_appearances': 58,\n  'ratio': 1.0508,\n  'loglikelihood': 1.3855666800218451},\n {'word': 'factori',\n  'target_appearances': 22,\n  'other_appearances': 21,\n  'ratio': 1.0455,\n  'loglikelihood': 1.3804215014533066},\n {'word': 'imag',\n  'target_appearances': 25,\n  'other_appearances': 24,\n  'ratio': 1.04,\n  'loglikelihood': 1.3751904520357543},\n {'word': 'ill',\n  'target_appearances': 32,\n  'other_appearances': 31,\n  'ratio': 1.0312,\n  'loglikelihood': 1.3667413975492264},\n {'word': 'rip',\n  'target_appearances': 54,\n  'other_appearances': 53,\n  'ratio': 1.0185,\n  'loglikelihood': 1.3543188775506694},\n {'word': 'act',\n  'target_appearances': 21,\n  'other_appearances': 21,\n  'ratio': 1.0,\n  'loglikelihood': 1.3359697388824727},\n {'word': 'failur',\n  'target_appearances': 12,\n  'other_appearances': 12,\n  'ratio': 1.0,\n  'loglikelihood': 1.335969738882473},\n {'word': 'assur',\n  'target_appearances': 15,\n  'other_appearances': 15,\n  'ratio': 1.0,\n  'loglikelihood': 1.3359697388824727},\n {'word': 'window',\n  'target_appearances': 12,\n  'other_appearances': 12,\n  'ratio': 1.0,\n  'loglikelihood': 1.335969738882473},\n {'word': 'poorli',\n  'target_appearances': 14,\n  'other_appearances': 14,\n  'ratio': 1.0,\n  'loglikelihood': 1.335969738882473},\n {'word': 'rind',\n  'target_appearances': 12,\n  'other_appearances': 12,\n  'ratio': 1.0,\n  'loglikelihood': 1.335969738882473},\n {'word': 'intent',\n  'target_appearances': 17,\n  'other_appearances': 17,\n  'ratio': 1.0,\n  'loglikelihood': 1.3359697388824727},\n {'word': 'lecithin',\n  'target_appearances': 13,\n  'other_appearances': 13,\n  'ratio': 1.0,\n  'loglikelihood': 1.3359697388824727},\n {'word': 'genuin',\n  'target_appearances': 12,\n  'other_appearances': 12,\n  'ratio': 1.0,\n  'loglikelihood': 1.335969738882473},\n {'word': 'terribl',\n  'target_appearances': 125,\n  'other_appearances': 126,\n  'ratio': 0.9921,\n  'loglikelihood': 1.3280645593753595},\n {'word': 'told',\n  'target_appearances': 85,\n  'other_appearances': 87,\n  'ratio': 0.9773,\n  'loglikelihood': 1.312980220657774},\n {'word': 'canida',\n  'target_appearances': 37,\n  'other_appearances': 38,\n  'ratio': 0.9744,\n  'loglikelihood': 1.3099942524792123},\n {'word': 'buyer',\n  'target_appearances': 36,\n  'other_appearances': 37,\n  'ratio': 0.9737,\n  'loglikelihood': 1.3093014918003114},\n {'word': 'sick',\n  'target_appearances': 67,\n  'other_appearances': 69,\n  'ratio': 0.9714,\n  'loglikelihood': 1.3069822020092206},\n {'word': 'contact',\n  'target_appearances': 60,\n  'other_appearances': 62,\n  'ratio': 0.9683,\n  'loglikelihood': 1.3037088766642515},\n {'word': 'j',\n  'target_appearances': 18,\n  'other_appearances': 19,\n  'ratio': 0.95,\n  'loglikelihood': 1.2846764444949226},\n {'word': 'destroy',\n  'target_appearances': 18,\n  'other_appearances': 19,\n  'ratio': 0.95,\n  'loglikelihood': 1.2846764444949226},\n {'word': 'gag',\n  'target_appearances': 15,\n  'other_appearances': 16,\n  'ratio': 0.9412,\n  'loglikelihood': 1.2753451170660381},\n {'word': 'taffi',\n  'target_appearances': 15,\n  'other_appearances': 16,\n  'ratio': 0.9412,\n  'loglikelihood': 1.2753451170660381},\n {'word': 'card',\n  'target_appearances': 14,\n  'other_appearances': 15,\n  'ratio': 0.9375,\n  'loglikelihood': 1.2714312177449016},\n {'word': 'pig',\n  'target_appearances': 12,\n  'other_appearances': 13,\n  'ratio': 0.9286,\n  'loglikelihood': 1.261861766728751},\n {'word': 'bounc',\n  'target_appearances': 12,\n  'other_appearances': 13,\n  'ratio': 0.9286,\n  'loglikelihood': 1.261861766728751},\n {'word': 'feedback',\n  'target_appearances': 12,\n  'other_appearances': 13,\n  'ratio': 0.9286,\n  'loglikelihood': 1.261861766728751},\n {'word': 'ingest',\n  'target_appearances': 11,\n  'other_appearances': 12,\n  'ratio': 0.9231,\n  'loglikelihood': 1.2559270312089363},\n {'word': 'repli',\n  'target_appearances': 11,\n  'other_appearances': 12,\n  'ratio': 0.9231,\n  'loglikelihood': 1.2559270312089363},\n {'word': 'hungri',\n  'target_appearances': 58,\n  'other_appearances': 63,\n  'ratio': 0.9219,\n  'loglikelihood': 1.2546240994285203},\n {'word': 'mistak',\n  'target_appearances': 66,\n  'other_appearances': 72,\n  'ratio': 0.9178,\n  'loglikelihood': 1.2502029171250477},\n {'word': 'decemb',\n  'target_appearances': 10,\n  'other_appearances': 11,\n  'ratio': 0.9167,\n  'loglikelihood': 1.248958361892843},\n {'word': 'trust',\n  'target_appearances': 41,\n  'other_appearances': 45,\n  'ratio': 0.913,\n  'loglikelihood': 1.2449979606767463},\n {'word': 'ined',\n  'target_appearances': 20,\n  'other_appearances': 22,\n  'ratio': 0.913,\n  'loglikelihood': 1.2449979606767463},\n {'word': 'polici',\n  'target_appearances': 9,\n  'other_appearances': 10,\n  'ratio': 0.9091,\n  'loglikelihood': 1.240659559078148},\n {'word': 'began',\n  'target_appearances': 38,\n  'other_appearances': 42,\n  'ratio': 0.907,\n  'loglikelihood': 1.238331269318557},\n {'word': 'joke',\n  'target_appearances': 17,\n  'other_appearances': 19,\n  'ratio': 0.9,\n  'loglikelihood': 1.2306092232246466},\n {'word': 'vomit',\n  'target_appearances': 42,\n  'other_appearances': 47,\n  'ratio': 0.8958,\n  'loglikelihood': 1.2259688436681444},\n {'word': 'blame',\n  'target_appearances': 16,\n  'other_appearances': 18,\n  'ratio': 0.8947,\n  'loglikelihood': 1.2247441037722484},\n {'word': 'gelatin',\n  'target_appearances': 24,\n  'other_appearances': 27,\n  'ratio': 0.8929,\n  'loglikelihood': 1.2226410535754697},\n {'word': 'transit',\n  'target_appearances': 23,\n  'other_appearances': 26,\n  'ratio': 0.8889,\n  'loglikelihood': 1.2181867032260894},\n {'word': 'self',\n  'target_appearances': 15,\n  'other_appearances': 17,\n  'ratio': 0.8889,\n  'loglikelihood': 1.2181867032260894},\n {'word': 'bird',\n  'target_appearances': 15,\n  'other_appearances': 17,\n  'ratio': 0.8889,\n  'loglikelihood': 1.2181867032260894},\n {'word': 'vet',\n  'target_appearances': 90,\n  'other_appearances': 103,\n  'ratio': 0.875,\n  'loglikelihood': 1.2024383462579504},\n {'word': 'fed',\n  'target_appearances': 47,\n  'other_appearances': 54,\n  'ratio': 0.8727,\n  'loglikelihood': 1.199837564557893},\n {'word': 'shi',\n  'target_appearances': 12,\n  'other_appearances': 14,\n  'ratio': 0.8667,\n  'loglikelihood': 1.1928688952417996},\n {'word': 'unus',\n  'target_appearances': 11,\n  'other_appearances': 13,\n  'ratio': 0.8571,\n  'loglikelihood': 1.1818190590552144},\n {'word': 'confirm',\n  'target_appearances': 11,\n  'other_appearances': 13,\n  'ratio': 0.8571,\n  'loglikelihood': 1.1818190590552144},\n {'word': 'becam',\n  'target_appearances': 45,\n  'other_appearances': 53,\n  'ratio': 0.8519,\n  'loglikelihood': 1.1756270888072935},\n {'word': 'soybean',\n  'target_appearances': 10,\n  'other_appearances': 12,\n  'ratio': 0.8462,\n  'loglikelihood': 1.1689156542193067},\n {'word': 'rubberi',\n  'target_appearances': 10,\n  'other_appearances': 12,\n  'ratio': 0.8462,\n  'loglikelihood': 1.1689156542193067}]"
     },
     "execution_count": 27,
     "metadata": {},
     "output_type": "execute_result"
    }
   ],
   "source": [
    "model = NaiveBayesClassifier().fit(X, y)\n",
    "model.inspect_likelihoods(1, min_other_appearances=10)"
   ],
   "metadata": {
    "collapsed": false,
    "pycharm": {
     "name": "#%%\n"
    }
   }
  },
  {
   "cell_type": "code",
   "execution_count": 28,
   "outputs": [
    {
     "data": {
      "text/plain": "{'word': 'garbag',\n 'appearances for 1': 92,\n 'appearances for 2': 6,\n 'appearances for 3': 2,\n 'appearances for 4': 5,\n 'appearances for 5': 6}"
     },
     "execution_count": 28,
     "metadata": {},
     "output_type": "execute_result"
    }
   ],
   "source": [
    "model.inspect_word('garbag')"
   ],
   "metadata": {
    "collapsed": false,
    "pycharm": {
     "name": "#%%\n"
    }
   }
  },
  {
   "cell_type": "code",
   "execution_count": null,
   "outputs": [],
   "source": [],
   "metadata": {
    "collapsed": false,
    "pycharm": {
     "name": "#%%\n"
    }
   }
  }
 ],
 "metadata": {
  "kernelspec": {
   "display_name": "Python 3",
   "language": "python",
   "name": "python3"
  },
  "language_info": {
   "codemirror_mode": {
    "name": "ipython",
    "version": 2
   },
   "file_extension": ".py",
   "mimetype": "text/x-python",
   "name": "python",
   "nbconvert_exporter": "python",
   "pygments_lexer": "ipython2",
   "version": "2.7.6"
  }
 },
 "nbformat": 4,
 "nbformat_minor": 0
}